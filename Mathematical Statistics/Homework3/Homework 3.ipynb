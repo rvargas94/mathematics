{
 "cells": [
  {
   "cell_type": "markdown",
   "metadata": {},
   "source": [
    "# Problem 6.8-1\n",
    "Let $Y$ be the sum of the observations of a random sample from a Poisson distribution with mean $\\theta$.  Let the prior pdf of $\\theta$ be gamma with parameters $\\alpha$ and $\\beta$."
   ]
  },
  {
   "cell_type": "markdown",
   "metadata": {},
   "source": [
    "## Part a\n",
    "Find the posterior pdf of $\\theta$ given that $Y = y$."
   ]
  },
  {
   "cell_type": "markdown",
   "metadata": {},
   "source": [
    "By definition of Bayes, which is <br>\n",
    "\n",
    "$p(\\theta|y)=\\dfrac{p(y|\\theta)p(\\theta)}{p(y)}$<br>\n",
    "\n",
    "\n",
    "Let $\\lambda=\\theta$<br>\n",
    "\n",
    "Therefore the prior is,<br>\n",
    "\n",
    "$g(\\theta)=\\dfrac{\\theta^{\\alpha-1}e^{-\\theta/\\beta}}{\\beta^\\alpha\\Gamma(\\alpha)}$<br><br>\n",
    "\n",
    "\n",
    "And the likelihood is,<br>\n",
    "\n",
    "$L(\\theta|Y)=(\\prod\\dfrac{1}{y_i!})\\theta^ye^{-n\\theta}$<br>\n",
    "\n",
    "\n",
    "Making the denominator,<br>\n",
    "\n",
    "$p(y|\\theta)p(\\theta)=\\dfrac{\\theta^{\\alpha-1}e^{-\\theta/\\beta}}{\\beta^\\alpha\\Gamma(\\alpha)}(\\prod\\dfrac{1}{y_i!})\\theta^ye^{-n\\theta}$<br><br>\n",
    "\n",
    "\n",
    "$=\\dfrac{\\prod\\dfrac{1}{y_i!}}{\\beta^\\alpha\\Gamma(\\alpha)}\\theta^{\\alpha-1}e^{-\\theta/\\beta}\\theta^ye^{-n\\theta}$<br><br>\n",
    "\n",
    "\n",
    "$=\\dfrac{\\prod\\dfrac{1}{y_i!}}{\\beta^\\alpha\\Gamma(\\alpha)}\\theta^{\\alpha+y-1}e^{-\\theta(\\dfrac{1}{\\beta}+n)}$<br><br>\n",
    "\n",
    "\n",
    "<b>Above I am missing an exponent of n for $e$</b>\n",
    "\n",
    "\n",
    "$\\therefore k(\\theta|y)\\propto\\theta^{\\alpha+y-1}e^{-n\\theta(n+1/\\beta)}$"
   ]
  },
  {
   "cell_type": "markdown",
   "metadata": {},
   "source": [
    "## Part b\n",
    "If the loss functions is $[w(y)-\\theta]^2$, find the Bayesian point estimate $w(y)$."
   ]
  },
  {
   "cell_type": "markdown",
   "metadata": {},
   "source": [
    "The expected value of Gamma distribution is the mean, which is the product of $\\alpha\\theta$<br>\n",
    "\n",
    "$w(y)=E(\\theta|y)=\\dfrac{(\\alpha+y)}{n+1/\\beta}$"
   ]
  },
  {
   "cell_type": "markdown",
   "metadata": {},
   "source": [
    "## Part c\n",
    "Show that $w(y)$ found in (b) is a weighted average of the maximum likelihood estimate of $y/n$ and the prior mean $\\alpha\\beta$ with respective weights of $\\dfrac{n}{n+1/\\beta}$"
   ]
  },
  {
   "cell_type": "markdown",
   "metadata": {},
   "source": [
    "$w(y)=(\\dfrac{y}{n})(\\dfrac{n}{n+1/\\beta})+(\\alpha\\beta)(\\dfrac{1/\\beta}{n+1/\\beta})$<br>\n",
    "\n",
    "Therefore, the averages are weighted by $\\dfrac{y}{n}$ and $\\alpha\\beta$"
   ]
  },
  {
   "cell_type": "markdown",
   "metadata": {},
   "source": [
    "# Problem 6.8-3\n",
    "In Example 6.8-2, take $n=30, \\alpha=15, \\beta=5$."
   ]
  },
  {
   "cell_type": "markdown",
   "metadata": {},
   "source": [
    "## Part a\n",
    "Using the squared error loss, compute the expected loss (risk function) associated with the Bayes estimator $w(Y)$."
   ]
  },
  {
   "cell_type": "markdown",
   "metadata": {},
   "source": [
    "Example 6.8-2 has $w(y)=\\dfrac{\\alpha+y}{\\alpha+\\beta+n}$<br>\n",
    "\n",
    "\n",
    "$E(Y)= \\mu$<br>\n",
    "\n",
    "\n",
    "And since $\\mu = np,$ and $p=\\theta$<br>\n",
    "\n",
    "\n",
    "Therefore,  $E(Y)=30\\theta$<br>\n",
    "\n",
    "\n",
    "As for $Var(Y)$,<br>\n",
    "\n",
    "\n",
    "$Var(Y)=\\sigma^2=npq$<br>\n",
    "\n",
    "\n",
    "As well as,<br>\n",
    "\n",
    "\n",
    "$Var(Y) = E(Y^2)-(E(Y))^2$<br>\n",
    "\n",
    "\n",
    "Recall, $q = 1-p$<br>\n",
    "\n",
    "\n",
    "Therefore, $Var(Y)=30\\theta(1-\\theta)$"
   ]
  },
  {
   "cell_type": "markdown",
   "metadata": {},
   "source": [
    "Expected loss is equal to the expected value of $(\\theta-w(y))^2$<br>\n",
    "\n",
    "\n",
    "$E[(\\theta-w(y))^2] = E((\\theta-\\dfrac{\\alpha+Y}{\\alpha+\\beta+n})^2)$<br>\n",
    "\n",
    "\n",
    "Plug in values,<br>\n",
    "\n",
    "\n",
    "$=E((\\theta-\\dfrac{15+Y}{15+5+30})^2)$<br>\n",
    "\n",
    "\n",
    "$=E((\\theta-\\dfrac{15+Y}{50})^2)$<br>\n",
    "\n",
    "\n",
    "Expand,<br>\n",
    "\n",
    "\n",
    "$=E(\\theta^2-2\\theta\\dfrac{15+Y}{50}+(\\dfrac{15+Y}{50})^2)$<br>\n",
    "\n",
    "\n",
    "$=\\theta^2-\\theta\\dfrac{15+E(Y)}{25}+E(\\dfrac{225+30Y+Y^2}{2500})$<br>\n",
    "\n",
    "\n",
    "$=\\theta^2-\\theta\\dfrac{15+E(Y)}{25}+\\dfrac{225+30E(Y)+E(Y^2)}{2500}$<br>\n",
    "\n",
    "\n",
    "Let $E(Y^2)=Var(Y)+(E(Y))^2$<br>\n",
    "\n",
    "\n",
    "$\\dfrac{500\\theta^2}{500}-\\dfrac{300\\theta}{500}-\\dfrac{600\\theta^2}{500}+\\dfrac{186\\theta}{500}+\\dfrac{174\\theta^2}{500}+\\dfrac{45}{500}$\n",
    "\n",
    "\n",
    "$=\\dfrac{74\\theta^2-114\\theta+45}{500}$"
   ]
  },
  {
   "cell_type": "markdown",
   "metadata": {},
   "source": [
    "## Part b\n",
    "The risk function associated with the usual estimator $Y/n$ is $\\theta(1-\\theta)/30$.  Find those values of $\\theta$ for which the risk function in part (a) is less than $\\theta(1-\\theta)/30$.  In particular, if the prior mean $\\alpha/(\\alpha+\\beta)=3/4$ is a reasonable guess, then the risk function in part (a) is better of the two (i.e., is smaller in a neighborhood of $\\theta=3/4$) for what values of $\\theta$?"
   ]
  },
  {
   "cell_type": "markdown",
   "metadata": {},
   "source": [
    "COMPLETE THIS PROBLEM LATER\n"
   ]
  },
  {
   "cell_type": "markdown",
   "metadata": {},
   "source": [
    "# Problem 7.1-1\n",
    "A random sample of size 16 from the normal distribution $N(\\mu,25)$ yielded $\\bar{x}=73.8$.  Find a 95% confidence interval for $\\mu$."
   ]
  },
  {
   "cell_type": "markdown",
   "metadata": {},
   "source": [
    "$z_{\\alpha/2}=z_0.025=1.96$ according the table in the appendix.<br>\n",
    "\n",
    "\n",
    "Definition of CI,<br>\n",
    "\n",
    "\n",
    "$\\bar{x}\\pm z_{\\alpha/2}\\dfrac{\\sigma}{\\sqrt{n}}$<br>\n",
    "\n",
    "\n",
    "Substitute values,<br>\n",
    "\n",
    "\n",
    "$73.8\\pm 1.96\\dfrac{\\sqrt{25}}{\\sqrt{16}}$<br>\n",
    "\n",
    "\n",
    "Therefore the CI for $\\mu$ = (71.35,76.25)"
   ]
  },
  {
   "cell_type": "markdown",
   "metadata": {},
   "source": [
    "# Problem 7.1-4\n",
    "Let $X$ equal the weight in grams of a \"52-gram\" snack pack of candies.  Assume that the distribution of $X$ is $N(\\mu,4)$.  A random sample of $n=10$ observations of $X$ yielded the following data:"
   ]
  },
  {
   "cell_type": "code",
   "execution_count": 1,
   "metadata": {
    "scrolled": true
   },
   "outputs": [
    {
     "name": "stdout",
     "output_type": "stream",
     "text": [
      "   Snack_pack_weight\n",
      "0              55.95\n",
      "1              56.54\n",
      "2              57.58\n",
      "3              55.13\n",
      "4              57.48\n",
      "5              56.06\n",
      "6              59.93\n",
      "7              58.30\n",
      "8              52.57\n",
      "9              58.46\n"
     ]
    }
   ],
   "source": [
    "import pandas as pd\n",
    "import numpy as np\n",
    "from scipy import stats\n",
    "\n",
    "Problem7_1_4data = pd.read_csv('E7_1-04.txt', sep=\" \", header=None)\n",
    "Problem7_1_4data.rename(columns={0:\"Snack_pack_weight\"},inplace=True)\n",
    "print(Problem7_1_4data)"
   ]
  },
  {
   "cell_type": "markdown",
   "metadata": {},
   "source": [
    "## Part a\n",
    "Give a point estimate for $\\mu$"
   ]
  },
  {
   "cell_type": "code",
   "execution_count": 2,
   "metadata": {},
   "outputs": [
    {
     "name": "stdout",
     "output_type": "stream",
     "text": [
      "The sample mean is 56.8\n"
     ]
    }
   ],
   "source": [
    "x_bar = Problem7_1_4data.mean() #mean\n",
    "print(\"The sample mean is\",x_bar.values[0])"
   ]
  },
  {
   "cell_type": "markdown",
   "metadata": {},
   "source": [
    "## Part b\n",
    "For the endpoints for a 95% confidence interval for $\\mu$"
   ]
  },
  {
   "cell_type": "code",
   "execution_count": 3,
   "metadata": {},
   "outputs": [
    {
     "name": "stdout",
     "output_type": "stream",
     "text": [
      "Lower confidence interval is 55.5604\n",
      "Upper confidence interval is 58.0396\n"
     ]
    }
   ],
   "source": [
    "data_std = np.sqrt(4) #std\n",
    "data_n = len(Problem7_1_4data) #number of elements\n",
    "z = 1.96 # Conf interval of 95%\n",
    "\n",
    "lower_data_ci = (x_bar.values[0] - (z * (data_std/np.sqrt(data_n)))).round(4)\n",
    "upper_data_ci = (x_bar.values[0] + (z * (data_std/np.sqrt(data_n)))).round(4)\n",
    "print(\"Lower confidence interval is\",lower_data_ci)\n",
    "print(\"Upper confidence interval is\",upper_data_ci)"
   ]
  },
  {
   "cell_type": "markdown",
   "metadata": {},
   "source": [
    "## Part c\n",
    "On the basis of these very limited data, what is the probability that an individual snack pack selected at random is filled with less than 52 grams of candy?"
   ]
  },
  {
   "cell_type": "markdown",
   "metadata": {},
   "source": [
    "If we assume that $\\bar{x}=\\mu$ then we can calculate z score using the following formula,<br>\n",
    "\n",
    "\n",
    "$z=\\dfrac{x-\\mu}{\\sigma}$<br>\n",
    "\n",
    "\n",
    "Then find the probability using,<br>\n",
    "\n",
    "\n",
    "$P(X<52)\\approx P(Z<z)$"
   ]
  },
  {
   "cell_type": "code",
   "execution_count": 4,
   "metadata": {},
   "outputs": [
    {
     "name": "stdout",
     "output_type": "stream",
     "text": [
      "The probability of less than 52 grams of candy is  0.82 %\n"
     ]
    }
   ],
   "source": [
    "z_score = (52-56.8)/np.sqrt(4)\n",
    "data_prob = (stats.norm.cdf(z_score)*100).round(2)\n",
    "print(\"The probability of less than 52 grams of candy is \",data_prob,\"%\")"
   ]
  },
  {
   "cell_type": "markdown",
   "metadata": {},
   "source": [
    "# Problem 7.1-5\n",
    "As a clue to the amount of organic waste in \n",
    "Lake Macatawa, a count was made of the number of bacteria colonies in 100 milliliters of water.  The number of colonies, in hundreds, for $n=30$ samples of water from the east basin yielded the following,"
   ]
  },
  {
   "cell_type": "code",
   "execution_count": 6,
   "metadata": {},
   "outputs": [
    {
     "name": "stdout",
     "output_type": "stream",
     "text": [
      "    bacteria_colonies_in_100mL_water\n",
      "0                                 93\n",
      "1                                140\n",
      "2                                  8\n",
      "3                                120\n",
      "4                                  3\n",
      "5                                120\n",
      "6                                 33\n",
      "7                                 70\n",
      "8                                 91\n",
      "9                                 61\n",
      "10                                 7\n",
      "11                               100\n",
      "12                                19\n",
      "13                                98\n",
      "14                               110\n",
      "15                                23\n",
      "16                                14\n",
      "17                                94\n",
      "18                                57\n",
      "19                                 9\n",
      "20                                66\n",
      "21                                53\n",
      "22                                28\n",
      "23                                76\n",
      "24                                58\n",
      "25                                 9\n",
      "26                                73\n",
      "27                                49\n",
      "28                                37\n",
      "29                                92\n"
     ]
    }
   ],
   "source": [
    "Problem7_1_5data = pd.read_csv('E7_1-05.txt', sep=\" \", header=None)\n",
    "Problem7_1_5data.rename(columns={0:\"bacteria_colonies_in_100mL_water\"},inplace=True)\n",
    "print(Problem7_1_5data)"
   ]
  },
  {
   "cell_type": "markdown",
   "metadata": {},
   "source": [
    "Using Student's t distribution, with degree of freedom being $29$ and $1-(1-.90)/2 = 0.95$.  Table has $t_{\\alpha/2}=1.$"
   ]
  },
  {
   "cell_type": "code",
   "execution_count": 20,
   "metadata": {},
   "outputs": [
    {
     "name": "stdout",
     "output_type": "stream",
     "text": [
      "The lower confidence interval is 48.0762\n",
      "The upper confidence interval is 72.6572\n"
     ]
    }
   ],
   "source": [
    "x_bar = Problem7_1_5data.mean().round(4).values[0]\n",
    "n = len(Problem7_1_5data)\n",
    "std = Problem7_1_5data.std().round(4).values[0]\n",
    "t = 1.699\n",
    "\n",
    "lower_ci = (x_bar-t*std/np.sqrt(n)).round(4)\n",
    "upper_ci = (x_bar+t*std/np.sqrt(n)).round(4)\n",
    "\n",
    "print(\"The lower confidence interval is\",lower_ci)\n",
    "print(\"The upper confidence interval is\",upper_ci)"
   ]
  }
 ],
 "metadata": {
  "kernelspec": {
   "display_name": "Python 3",
   "language": "python",
   "name": "python3"
  },
  "language_info": {
   "codemirror_mode": {
    "name": "ipython",
    "version": 3
   },
   "file_extension": ".py",
   "mimetype": "text/x-python",
   "name": "python",
   "nbconvert_exporter": "python",
   "pygments_lexer": "ipython3",
   "version": "3.7.3"
  }
 },
 "nbformat": 4,
 "nbformat_minor": 2
}
