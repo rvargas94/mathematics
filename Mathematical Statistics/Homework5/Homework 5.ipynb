{
 "cells": [
  {
   "cell_type": "markdown",
   "metadata": {},
   "source": [
    "# Problem 8.1-3\n",
    "Let $X$ equal the Brinell hardness measurement of ductile iron subcritically annealed.  Assume that the distribution of $X$ is $N(\\mu,100)$.  We shall test the null hypothesis $H_0:\\mu=170$ against the alternative hypothesis $H_1:\\mu>170$, using $n=25$ observations of $X$"
   ]
  },
  {
   "cell_type": "markdown",
   "metadata": {},
   "source": [
    "## Part a\n",
    "Define the test statistic and a critical region that has a significance level of $\\alpha=0.05$. Sketch the figure showing this critical region"
   ]
  },
  {
   "cell_type": "markdown",
   "metadata": {},
   "source": [
    "$\\sigma^2=100 \\Rightarrow \\sigma = 10$<br>\n",
    "\n",
    "\n",
    "The test statistic, $z$ is defined below<br>\n",
    "\n",
    "\n",
    "$z = \\dfrac{\\bar{x} - \\mu}{\\sigma/\\sqrt{n}} = \\dfrac{\\bar{x}}{2}-85$<br>\n",
    "\n",
    "\n",
    "The rejection region is defined by<br>\n",
    "\n",
    "\n",
    "$z_{0.05}=1.645$<br>\n",
    "\n",
    "\n",
    "Implying we reject the null hypothesis for values larger than 1.645\n",
    "\n"
   ]
  },
  {
   "cell_type": "code",
   "execution_count": 28,
   "metadata": {},
   "outputs": [
    {
     "data": {
      "image/png": "[encoded data removed]",
      "text/plain": [
       "<Figure size 432x288 with 1 Axes>"
      ]
     },
     "metadata": {},
     "output_type": "display_data"
    }
   ],
   "source": [
    "##Code snippet from \n",
    "#https://stackoverflow.com/questions/10138085/python-pylab-plot-normal-distribution\n",
    "\n",
    "import matplotlib.pyplot as plt\n",
    "import numpy as np\n",
    "import scipy.stats as stats\n",
    "import math\n",
    "plt.style.use('ggplot')\n",
    "\n",
    "mu = 0\n",
    "variance = 1\n",
    "sigma = math.sqrt(variance)\n",
    "x = np.linspace(mu-3*sigma, mu+3*sigma,100)\n",
    "iq = stats.norm(mu,sigma)\n",
    "\n",
    "y = iq.pdf(x)\n",
    "plt.plot(x, y,color='b')\n",
    "#End of code snippet\n",
    "\n",
    "px = np.arange(1.645,3.0,0.001)\n",
    "plt.fill_between(px,iq.pdf(px),color='r')\n",
    "\n",
    "plt.show()"
   ]
  },
  {
   "cell_type": "markdown",
   "metadata": {},
   "source": [
    "## Part b\n",
    "A random sample of $n=25$ observations of $X$ yielded measurements listed below.  Calculate the value of the test statistic and state your conclusion."
   ]
  },
  {
   "cell_type": "code",
   "execution_count": 2,
   "metadata": {},
   "outputs": [
    {
     "data": {
      "text/html": [
       "<div>\n",
       "<style scoped>\n",
       "    .dataframe tbody tr th:only-of-type {\n",
       "        vertical-align: middle;\n",
       "    }\n",
       "\n",
       "    .dataframe tbody tr th {\n",
       "        vertical-align: top;\n",
       "    }\n",
       "\n",
       "    .dataframe thead th {\n",
       "        text-align: right;\n",
       "    }\n",
       "</style>\n",
       "<table border=\"1\" class=\"dataframe\">\n",
       "  <thead>\n",
       "    <tr style=\"text-align: right;\">\n",
       "      <th></th>\n",
       "      <th>hardness_measurement</th>\n",
       "    </tr>\n",
       "  </thead>\n",
       "  <tbody>\n",
       "    <tr>\n",
       "      <td>0</td>\n",
       "      <td>170</td>\n",
       "    </tr>\n",
       "    <tr>\n",
       "      <td>1</td>\n",
       "      <td>167</td>\n",
       "    </tr>\n",
       "    <tr>\n",
       "      <td>2</td>\n",
       "      <td>174</td>\n",
       "    </tr>\n",
       "    <tr>\n",
       "      <td>3</td>\n",
       "      <td>179</td>\n",
       "    </tr>\n",
       "    <tr>\n",
       "      <td>4</td>\n",
       "      <td>179</td>\n",
       "    </tr>\n",
       "  </tbody>\n",
       "</table>\n",
       "</div>"
      ],
      "text/plain": [
       "   hardness_measurement\n",
       "0                   170\n",
       "1                   167\n",
       "2                   174\n",
       "3                   179\n",
       "4                   179"
      ]
     },
     "execution_count": 2,
     "metadata": {},
     "output_type": "execute_result"
    }
   ],
   "source": [
    "import pandas as pd\n",
    "Problem8_1_3data = pd.read_csv('E8_1-03.txt',sep=\" \", header=None)\n",
    "Problem8_1_3data.rename(columns={0:\"hardness_measurement\"},inplace=True)\n",
    "Problem8_1_3data.head()\n"
   ]
  },
  {
   "cell_type": "code",
   "execution_count": 3,
   "metadata": {},
   "outputs": [
    {
     "name": "stdout",
     "output_type": "stream",
     "text": [
      "x bar is 172.52\n",
      "The z-value is less than the z score, 1.26 therefore, we do not reject our null hypothesis\n"
     ]
    }
   ],
   "source": [
    "x_bar = Problem8_1_3data.values[:].mean()\n",
    "print(\"x bar is\",x_bar)\n",
    "\n",
    "z = ((x_bar - 170)/(10/np.sqrt(25))).round(3)\n",
    "\n",
    "print(\"The z-value is less than the z score,\",z,\"therefore, we do not reject our null hypothesis\")"
   ]
  },
  {
   "cell_type": "markdown",
   "metadata": {},
   "source": [
    "## Part c\n",
    "Give the approximate $p$-value of this test."
   ]
  },
  {
   "cell_type": "code",
   "execution_count": 4,
   "metadata": {},
   "outputs": [
    {
     "name": "stdout",
     "output_type": "stream",
     "text": [
      "The p-value is approximately 0.104\n"
     ]
    }
   ],
   "source": [
    "P = (1-stats.norm.cdf(z)).round(3)\n",
    "print(\"The p-value is approximately\",P)"
   ]
  },
  {
   "cell_type": "markdown",
   "metadata": {},
   "source": [
    "# Problem 8.1-4\n",
    "Let $X$ equal the thickness of spearment gum manufactured for vending machines.  Assume that the distribution of $X$ is $N(\\mu,\\sigma^2)$.  The target thickness is 7.5 hundredths of an inch.  We shall test the null hypothesis $H_0:\\mu=7.5$ against a two-sided alternative hypothesis, using 10 observations."
   ]
  },
  {
   "cell_type": "markdown",
   "metadata": {},
   "source": [
    "## Part a\n",
    "Define the test statistic and critical region for an $\\alpha=0.05$ significance level. Sketch a figure illustrating this critical region."
   ]
  },
  {
   "cell_type": "markdown",
   "metadata": {},
   "source": [
    "The test statistic, $t$ is defined below<br>\n",
    "\n",
    "\n",
    "$t = \\dfrac{\\bar{x} - \\mu_0}{s/\\sqrt{n}} = \\dfrac{\\bar{x}-7.5}{s/\\sqrt{10}}$<br>\n",
    "\n",
    "\n",
    "The rejection region is defined by<br>\n",
    "\n",
    "\n",
    "$t_{0.025}$ with degrees of freedom, $df=10-1=9$<br>\n",
    "\n",
    "\n",
    "\n",
    "Therefore, $t_{0.025} = \\pm 2.262$<br>\n",
    "\n",
    "\n",
    "Implying we reject the null hypothesis for values greater than 2.262 or less than -2.262\n"
   ]
  },
  {
   "cell_type": "code",
   "execution_count": 5,
   "metadata": {
    "scrolled": true
   },
   "outputs": [
    {
     "data": {
      "image/png": "[encoded data removed]",
      "text/plain": [
       "<Figure size 432x288 with 1 Axes>"
      ]
     },
     "metadata": {},
     "output_type": "display_data"
    }
   ],
   "source": [
    "plt.style.use('ggplot')\n",
    "df = 9\n",
    "x = np.linspace(stats.t.ppf(0.001,df),stats.t.ppf(0.999,df),100)\n",
    "\n",
    "y = stats.t.pdf(x,df)\n",
    "plt.plot(x, y,color='b')\n",
    "px = np.arange(2.262,stats.t.ppf(0.999,df),0.001)\n",
    "npx = np.arange(stats.t.ppf(0.001,df),-2.262,0.001)\n",
    "plt.fill_between(px,stats.t.pdf(px,df),color='r')\n",
    "plt.fill_between(npx,stats.t.pdf(npx,df),color='r')\n",
    "plt.show()"
   ]
  },
  {
   "cell_type": "markdown",
   "metadata": {},
   "source": [
    "## Part b \n",
    "Calculate the value of the test statistic and state your decision clearly, using the following $n=10$ thicknesses in hundredths of an inch for pieces of gum that were selected randomly from the production line"
   ]
  },
  {
   "cell_type": "code",
   "execution_count": 6,
   "metadata": {},
   "outputs": [
    {
     "data": {
      "text/html": [
       "<div>\n",
       "<style scoped>\n",
       "    .dataframe tbody tr th:only-of-type {\n",
       "        vertical-align: middle;\n",
       "    }\n",
       "\n",
       "    .dataframe tbody tr th {\n",
       "        vertical-align: top;\n",
       "    }\n",
       "\n",
       "    .dataframe thead th {\n",
       "        text-align: right;\n",
       "    }\n",
       "</style>\n",
       "<table border=\"1\" class=\"dataframe\">\n",
       "  <thead>\n",
       "    <tr style=\"text-align: right;\">\n",
       "      <th></th>\n",
       "      <th>thickness(1/100 inch)</th>\n",
       "    </tr>\n",
       "  </thead>\n",
       "  <tbody>\n",
       "    <tr>\n",
       "      <td>0</td>\n",
       "      <td>7.65</td>\n",
       "    </tr>\n",
       "    <tr>\n",
       "      <td>1</td>\n",
       "      <td>7.60</td>\n",
       "    </tr>\n",
       "    <tr>\n",
       "      <td>2</td>\n",
       "      <td>7.65</td>\n",
       "    </tr>\n",
       "    <tr>\n",
       "      <td>3</td>\n",
       "      <td>7.70</td>\n",
       "    </tr>\n",
       "    <tr>\n",
       "      <td>4</td>\n",
       "      <td>7.55</td>\n",
       "    </tr>\n",
       "  </tbody>\n",
       "</table>\n",
       "</div>"
      ],
      "text/plain": [
       "   thickness(1/100 inch)\n",
       "0                   7.65\n",
       "1                   7.60\n",
       "2                   7.65\n",
       "3                   7.70\n",
       "4                   7.55"
      ]
     },
     "execution_count": 6,
     "metadata": {},
     "output_type": "execute_result"
    }
   ],
   "source": [
    "Problem8_1_4data = pd.read_csv('E8_1-04.txt',sep=\" \", header=None)\n",
    "Problem8_1_4data.rename(columns={0:\"thickness(1/100 inch)\"},inplace=True)\n",
    "Problem8_1_4data.head()"
   ]
  },
  {
   "cell_type": "code",
   "execution_count": 7,
   "metadata": {},
   "outputs": [
    {
     "name": "stdout",
     "output_type": "stream",
     "text": [
      "x bar is 7.55 and sample standard deviation is 0.1027\n"
     ]
    }
   ],
   "source": [
    "x_bar = Problem8_1_4data.values[:].mean()\n",
    "s = 0\n",
    "for a in Problem8_1_4data.values[:]:\n",
    "    s += np.square(x_bar-a)\n",
    "s = float(np.sqrt(s/9).round(4))\n",
    "print(\"x bar is\",x_bar,\"and sample standard deviation is\",s)"
   ]
  },
  {
   "cell_type": "code",
   "execution_count": 8,
   "metadata": {},
   "outputs": [
    {
     "name": "stdout",
     "output_type": "stream",
     "text": [
      "The value for test statistic t is 1.54\n"
     ]
    }
   ],
   "source": [
    "t = ((x_bar-7.5)/(s/np.sqrt(10))).round(3)\n",
    "print(\"The value for test statistic t is\",t)"
   ]
  },
  {
   "cell_type": "code",
   "execution_count": 9,
   "metadata": {},
   "outputs": [
    {
     "name": "stdout",
     "output_type": "stream",
     "text": [
      "The values of rejection region are anything greater than 2.262 or less than -2.262\n"
     ]
    }
   ],
   "source": [
    "P = stats.t.ppf(.975,9).round(3)\n",
    "print(\"The values of rejection region are anything greater than\",P,\"or less than\",-P)"
   ]
  },
  {
   "cell_type": "markdown",
   "metadata": {},
   "source": [
    "## Part c\n",
    "Is $\\mu=7.50$ contained in a $95$% confidence interval for $\\mu$?"
   ]
  },
  {
   "cell_type": "code",
   "execution_count": 10,
   "metadata": {},
   "outputs": [
    {
     "name": "stdout",
     "output_type": "stream",
     "text": [
      "The lower bound is 7.477 and the upper bound is 7.623\n",
      "Therefore, 7.50 is contained in the interval\n"
     ]
    }
   ],
   "source": [
    "lower_bound = (x_bar - P * s / np.sqrt(10)).round(3)\n",
    "upper_bound = (x_bar + P * s / np.sqrt(10)).round(3)\n",
    "print(\"The lower bound is\",lower_bound,\"and the upper bound is\",upper_bound)\n",
    "print(\"Therefore, 7.50 is contained in the interval\")"
   ]
  },
  {
   "cell_type": "markdown",
   "metadata": {},
   "source": [
    "# Problem 8.1-10\n",
    "In a mechanical testing lab, Plexiglass strips are stretched to failure.  Let $X$ equal the change in length in mm before breaking.  Assume that the distribution of $X$ is $N(\\mu,\\sigma^2)$.  We shall test the null hypothesis $H_0:\\mu=5.70$ against the alternative hypothesis $H_1:\\mu>5.70$ using $n=8$ observations of $X$."
   ]
  },
  {
   "cell_type": "markdown",
   "metadata": {},
   "source": [
    "## Part a\n",
    "Define the test statistic and a critical region that has a significance level of $\\alpha=0.05$. Sketch a figure showing this critical region."
   ]
  },
  {
   "cell_type": "markdown",
   "metadata": {},
   "source": [
    "Degrees of freedom, $df = 7$<br>\n",
    "\n",
    "\n",
    "$\\alpha = .05$, and our test in one sided.  Therefore,<br>\n",
    "\n",
    "\n",
    "$z=1.895$, meaning the rejection region is values larger than $z$."
   ]
  },
  {
   "cell_type": "code",
   "execution_count": 11,
   "metadata": {
    "scrolled": true
   },
   "outputs": [
    {
     "data": {
      "image/png": "[encoded data removed]",
      "text/plain": [
       "<Figure size 432x288 with 1 Axes>"
      ]
     },
     "metadata": {},
     "output_type": "display_data"
    }
   ],
   "source": [
    "plt.style.use('ggplot')\n",
    "df = 7\n",
    "x = np.linspace(stats.t.ppf(0.001,df),stats.t.ppf(0.999,df),100)\n",
    "\n",
    "y = stats.t.pdf(x,df)\n",
    "plt.plot(x, y,color='b')\n",
    "\n",
    "px = np.arange(1.895,stats.t.ppf(0.999,df),0.001)\n",
    "plt.fill_between(px,stats.t.pdf(px,df),color='r')\n",
    "\n",
    "plt.show()"
   ]
  },
  {
   "cell_type": "markdown",
   "metadata": {},
   "source": [
    "## Part b\n",
    "A random sample of eight observations of $X$ yielded the data below.  Calculate the value of the test statistic and state your conclusion clearly.  "
   ]
  },
  {
   "cell_type": "code",
   "execution_count": 12,
   "metadata": {},
   "outputs": [
    {
     "data": {
      "text/html": [
       "<div>\n",
       "<style scoped>\n",
       "    .dataframe tbody tr th:only-of-type {\n",
       "        vertical-align: middle;\n",
       "    }\n",
       "\n",
       "    .dataframe tbody tr th {\n",
       "        vertical-align: top;\n",
       "    }\n",
       "\n",
       "    .dataframe thead th {\n",
       "        text-align: right;\n",
       "    }\n",
       "</style>\n",
       "<table border=\"1\" class=\"dataframe\">\n",
       "  <thead>\n",
       "    <tr style=\"text-align: right;\">\n",
       "      <th></th>\n",
       "      <th>change_in_len(mm)</th>\n",
       "    </tr>\n",
       "  </thead>\n",
       "  <tbody>\n",
       "    <tr>\n",
       "      <td>0</td>\n",
       "      <td>5.71</td>\n",
       "    </tr>\n",
       "    <tr>\n",
       "      <td>1</td>\n",
       "      <td>5.80</td>\n",
       "    </tr>\n",
       "    <tr>\n",
       "      <td>2</td>\n",
       "      <td>6.03</td>\n",
       "    </tr>\n",
       "    <tr>\n",
       "      <td>3</td>\n",
       "      <td>5.87</td>\n",
       "    </tr>\n",
       "    <tr>\n",
       "      <td>4</td>\n",
       "      <td>6.22</td>\n",
       "    </tr>\n",
       "  </tbody>\n",
       "</table>\n",
       "</div>"
      ],
      "text/plain": [
       "   change_in_len(mm)\n",
       "0               5.71\n",
       "1               5.80\n",
       "2               6.03\n",
       "3               5.87\n",
       "4               6.22"
      ]
     },
     "execution_count": 12,
     "metadata": {},
     "output_type": "execute_result"
    }
   ],
   "source": [
    "Problem8_1_10data = pd.read_csv('E8_1-10.txt',sep=\" \", header=None)\n",
    "Problem8_1_10data.rename(columns={0:\"change_in_len(mm)\"},inplace=True)\n",
    "Problem8_1_10data.head()\n"
   ]
  },
  {
   "cell_type": "code",
   "execution_count": 13,
   "metadata": {},
   "outputs": [
    {
     "name": "stdout",
     "output_type": "stream",
     "text": [
      "x bar is 5.869 and sample standard deviation is 0.1974\n"
     ]
    }
   ],
   "source": [
    "x_bar = (Problem8_1_10data.values[:].mean()).round(3)\n",
    "s = 0\n",
    "for a in Problem8_1_10data.values[:]:\n",
    "    s += np.square(x_bar-a)\n",
    "s = float(np.sqrt(s/7).round(4))\n",
    "print(\"x bar is\",x_bar,\"and sample standard deviation is\",s)"
   ]
  },
  {
   "cell_type": "code",
   "execution_count": 14,
   "metadata": {},
   "outputs": [
    {
     "name": "stdout",
     "output_type": "stream",
     "text": [
      "The value for test statistic t is 2.422\n"
     ]
    }
   ],
   "source": [
    "t_val = ((x_bar-5.7)/(s/np.sqrt(8))).round(3)\n",
    "print(\"The value for test statistic t is\",t_val)"
   ]
  },
  {
   "cell_type": "markdown",
   "metadata": {},
   "source": [
    "Since the test t-value, $2.422 > 1.895$, we reject our $H_0$"
   ]
  },
  {
   "cell_type": "markdown",
   "metadata": {},
   "source": [
    "## Part c\n",
    "Give the approximate value of our bounds for the $p$-value of this test"
   ]
  },
  {
   "cell_type": "code",
   "execution_count": 15,
   "metadata": {},
   "outputs": [
    {
     "name": "stdout",
     "output_type": "stream",
     "text": [
      "0.023\n"
     ]
    }
   ],
   "source": [
    "p_val = (1-stats.t.cdf(t_val,df)).round(4)\n",
    "print(p_val)"
   ]
  },
  {
   "cell_type": "markdown",
   "metadata": {},
   "source": [
    "# Problem 8.2-4\n",
    "Among the data collected for the World Health Organization air quality monitoring project is a measure of suspended particles, in $\\mu g/m^3$.  Let $X$ and $Y$ equal the concentration of suspended particles in $\\mu g/m^3$ in the city centers (commercial districts), of Melbourne and Houston, respectively.  Using $n=13$ observations of $X$ and $m=16$ observations of $Y$, we shall test $H_0:\\mu_x=\\mu_y$ against $H_1:\\mu_x<\\mu_y$"
   ]
  },
  {
   "cell_type": "markdown",
   "metadata": {},
   "source": [
    "## Part a\n",
    "Define the test statistic and critical region, assuming that the variances are equal.  Let $\\alpha = 0.05$."
   ]
  },
  {
   "cell_type": "markdown",
   "metadata": {},
   "source": [
    "The test statistic t is defined by:<br>\n",
    "\n",
    "\n",
    "$t=\\dfrac{\\bar{x}-\\bar{y}}{s_p\\sqrt{n^{-1}+m^{-1}}}$<br>\n",
    "\n",
    "\n",
    "The critical region is defined by:<br>\n",
    "\n",
    "\n",
    "$\\bar{x}-\\bar{y}- t_{\\alpha/2}(n+m-2)s_p\\sqrt{n^{-1}+m^{-1}}$<br>\n",
    "\n",
    "and<br>\n",
    "\n",
    "\n",
    "$s_p=\\sqrt{\\dfrac{(n-1)s_x^2+(m-1)s_y^2}{n+m-2}}$<br>\n",
    "\n",
    "\n"
   ]
  },
  {
   "cell_type": "markdown",
   "metadata": {},
   "source": [
    "## Part b\n",
    "If $\\bar{x}=72.9,s_x=25.6,\\bar{y}=81.7,$ and $s_y=28.3,$ calculate the value of the test statistic and state your conclusion."
   ]
  },
  {
   "cell_type": "markdown",
   "metadata": {},
   "source": [
    "$s_p=\\sqrt{\\dfrac{(13-1)25.6^2+(16-1)28.3^2}{13+16-2}}\\approx 27.133$<br>\n",
    "\n",
    "\n",
    "$t_{0.05}(13+16-2)=-1.703$<br>\n",
    "\n",
    "\n",
    "The test statistic, $t$ is<br>\n",
    "\n",
    "\n",
    "$t=\\dfrac{72.9-81.7}{27.133\\sqrt{\\dfrac{1}{13}+\\dfrac{1}{16}}}\\approx -0.869$<br>\n",
    "\n",
    "\n",
    "$-0.869 > -1.703\\Rightarrow$ Do not reject $H_0$"
   ]
  },
  {
   "cell_type": "markdown",
   "metadata": {},
   "source": [
    "## Part c\n",
    "Give bounds for the $p$-value of this test"
   ]
  },
  {
   "cell_type": "markdown",
   "metadata": {},
   "source": [
    "Using a calculator, $P=0.196$ (I was not sure how to perform this operation with python, for difference of means)"
   ]
  },
  {
   "cell_type": "markdown",
   "metadata": {},
   "source": [
    "# Problem 8.2-9\n",
    "When a stream is turbid, it is not completely clear due to suspended solids in the water.  The higher the turbidity, the less clear is the water.  A stream was studied on 26 days, half during dry weather (say, observations of $X$) and the other half immediately after a significant rainfall (say, observations of $Y$).   Assume that the distributions of $X$ and $Y$ are $N(\\mu_x,\\sigma^2)$ and  $N(\\mu_y,\\sigma^2)$, respectively.   The following turbidities were recorded in units of NTUs:"
   ]
  },
  {
   "cell_type": "code",
   "execution_count": 16,
   "metadata": {},
   "outputs": [
    {
     "name": "stdout",
     "output_type": "stream",
     "text": [
      "       X     Y\n",
      "0    2.9   7.8\n",
      "1   14.9   4.2\n",
      "2    1.0   2.4\n",
      "3   12.6  12.9\n",
      "4    9.4  17.3\n",
      "5    7.6  10.4\n",
      "6    3.6   5.9\n",
      "7    3.1   4.9\n",
      "8    2.7   5.1\n",
      "9    4.8   8.4\n",
      "10   3.4  10.8\n",
      "11   7.1  23.4\n",
      "12   7.2   9.7\n"
     ]
    }
   ],
   "source": [
    "Problem8_2_9data = pd.read_csv('E8_2-09.txt',sep=\"\\t\", header=None)\n",
    "Problem8_2_9data.drop([0,1], axis=1,inplace = True)\n",
    "Problem8_2_9data.rename(columns={2:\"X\",3:\"Y\"},inplace=True)\n",
    "Problem8_2_9data=Problem8_2_9data.dropna()\n",
    "print(Problem8_2_9data)"
   ]
  },
  {
   "cell_type": "markdown",
   "metadata": {},
   "source": [
    "## Part a\n",
    "Test the null hypothesis $H_0:\\mu_x = \\mu_y$ against $H_1: \\mu_x < \\mu_y$. Give bounds for the $p$-value and state your conclusion.<br>\n",
    "\n",
    "\n",
    "I will let $\\alpha = 0.05$"
   ]
  },
  {
   "cell_type": "code",
   "execution_count": 17,
   "metadata": {},
   "outputs": [
    {
     "name": "stdout",
     "output_type": "stream",
     "text": [
      "x_bar is 6.177  and y_bar is 9.477\n"
     ]
    }
   ],
   "source": [
    "x_bar = Problem8_2_9data['X'].mean().round(3)\n",
    "y_bar = Problem8_2_9data['Y'].mean().round(3)\n",
    "print (\"x_bar is\",x_bar,\" and y_bar is\",y_bar)\n"
   ]
  },
  {
   "cell_type": "code",
   "execution_count": 18,
   "metadata": {},
   "outputs": [
    {
     "name": "stdout",
     "output_type": "stream",
     "text": [
      "Standard deviation of X is 4.153  and of Y is 5.804\n"
     ]
    }
   ],
   "source": [
    "x_std = Problem8_2_9data['X'].std().round(3)\n",
    "y_std = Problem8_2_9data['Y'].std().round(3)\n",
    "print(\"Standard deviation of X is\",x_std,\" and of Y is\",y_std)"
   ]
  },
  {
   "cell_type": "code",
   "execution_count": 19,
   "metadata": {},
   "outputs": [
    {
     "name": "stdout",
     "output_type": "stream",
     "text": [
      "The pooled standard deviation is 5.046\n",
      "0      2.9\n",
      "1     14.9\n",
      "2      1.0\n",
      "3     12.6\n",
      "4      9.4\n",
      "5      7.6\n",
      "6      3.6\n",
      "7      3.1\n",
      "8      2.7\n",
      "9      4.8\n",
      "10     3.4\n",
      "11     7.1\n",
      "12     7.2\n",
      "Name: X, dtype: float64\n"
     ]
    }
   ],
   "source": [
    "def pooled_std_dev(n,m,x_std,y_std):\n",
    "    t1 = (n-1)*np.square(x_std)\n",
    "    t2 = (m-1)*np.square(y_std)\n",
    "    t3 = np.sqrt((t1+t2)/(n+m-2))\n",
    "    return t3.round(3)\n",
    "p_std = pooled_std_dev(len(Problem8_2_9data['X']),len(Problem8_2_9data['Y']),x_std,y_std)\n",
    "print(\"The pooled standard deviation is\",p_std)\n",
    "print(Problem8_2_9data['X'])"
   ]
  },
  {
   "cell_type": "code",
   "execution_count": 20,
   "metadata": {},
   "outputs": [
    {
     "name": "stdout",
     "output_type": "stream",
     "text": [
      "The test statistic is -1.667\n"
     ]
    }
   ],
   "source": [
    "def test_t_stat(n,m,x_bar,y_bar,p):\n",
    "    t1 = x_bar - y_bar\n",
    "    t2 = p*np.sqrt(1/n+1/m)\n",
    "    t3 = t1/t2\n",
    "    return t3.round(3)\n",
    "\n",
    "test_t = test_t_stat(len(Problem8_2_9data['X']),len(Problem8_2_9data['Y']),x_bar,y_bar,p_std)\n",
    "print(\"The test statistic is\",test_t)"
   ]
  },
  {
   "cell_type": "code",
   "execution_count": 21,
   "metadata": {},
   "outputs": [
    {
     "name": "stdout",
     "output_type": "stream",
     "text": [
      "The critical value is -1.711  which is less than the test stat of -1.667\n",
      "We fail to reject the null hypothesis\n"
     ]
    }
   ],
   "source": [
    "alpha = 0.05\n",
    "df = 24\n",
    "crit_val = stats.t.ppf(alpha,df).round(3)\n",
    "print(\"The critical value is\",crit_val,\" which is less than the test stat of\",test_t)\n",
    "print(\"We fail to reject the null hypothesis\")"
   ]
  },
  {
   "cell_type": "markdown",
   "metadata": {},
   "source": [
    "## Part b\n",
    "Draw box-and-whisker diagrams on the same graph.  Does this figure confirm your answer?"
   ]
  },
  {
   "cell_type": "code",
   "execution_count": 22,
   "metadata": {},
   "outputs": [
    {
     "data": {
      "image/png": "[encoded data removed]",
      "text/plain": [
       "<Figure size 432x288 with 1 Axes>"
      ]
     },
     "metadata": {},
     "output_type": "display_data"
    }
   ],
   "source": [
    "boxplot = Problem8_2_9data.boxplot(column=['X','Y'])"
   ]
  },
  {
   "cell_type": "markdown",
   "metadata": {},
   "source": [
    "We do not reject the null hypothesis, so the box plots support this, as the median of $X$ is much smaller than the median of $Y$ which is the opposite of the alternative hypothesis."
   ]
  },
  {
   "cell_type": "markdown",
   "metadata": {},
   "source": [
    "# Problem 8.3-1\n",
    "Let $Y$ be $b(100,p)$. To test $H_0:p=0.08$ against $H_1:p<0.08$, we reject $H_0$ and accept $H_1$ if and only if $Y \\leq 6$"
   ]
  },
  {
   "cell_type": "markdown",
   "metadata": {},
   "source": [
    "## Part a\n",
    "Determine the significance level $\\alpha$ of the test."
   ]
  },
  {
   "cell_type": "code",
   "execution_count": 23,
   "metadata": {},
   "outputs": [
    {
     "name": "stdout",
     "output_type": "stream",
     "text": [
      "Significance level is 30.32 %\n"
     ]
    }
   ],
   "source": [
    "k = np.arange(0,7)\n",
    "n = 100\n",
    "p = 0.08\n",
    "alpha = (stats.binom.pmf(k,n,p)).sum().round(4)\n",
    "print(\"Significance level is\",(alpha*100).round(2),\"%\")"
   ]
  },
  {
   "cell_type": "markdown",
   "metadata": {},
   "source": [
    "## Part b\n",
    "Find the probability of the Type II error if, in fact, $p=0.04$."
   ]
  },
  {
   "cell_type": "code",
   "execution_count": 24,
   "metadata": {},
   "outputs": [
    {
     "name": "stdout",
     "output_type": "stream",
     "text": [
      "Type II error is 10.64 %\n"
     ]
    }
   ],
   "source": [
    "p = 0.04\n",
    "beta = (1-(stats.binom.pmf(k,n,p)).sum()).round(4)\n",
    "print(\"Type II error is\",(beta*100).round(2),\"%\")"
   ]
  },
  {
   "cell_type": "markdown",
   "metadata": {},
   "source": [
    "# Problem 8.3-2\n",
    "A bowl contains two red balls, two white balls, and a fifth ball that is either red or white.  Let $p$ denote the probability of drawing a red ball from the bowl.  We shall test the simple null hypothesis $H_0:p=3/5$ against the simple alternative hypothesis $H_1:p=2/5$.  Draw four balls at random from the bowl, one at a time and with replacement.  Let $X$ equal the number of red balls drawn."
   ]
  },
  {
   "cell_type": "markdown",
   "metadata": {},
   "source": [
    "## Part a\n",
    "Define a critical region $C$ for this test in terms of $X$."
   ]
  },
  {
   "cell_type": "markdown",
   "metadata": {},
   "source": [
    "For the alternate hypothesis $H_1$, we expect<br>\n",
    "\n",
    "\n",
    "$4(\\dfrac{2}{5}) = \\dfrac{8}{5} = 1.6$ red balls, however we need an integer for balls, so we will round down to 1 ball.  <br>\n",
    "\n",
    "\n",
    "If we have 0 or 1 red balls, we reject the null hypothesis.  Therefore, our critical region is $C=\\{0,1\\}$"
   ]
  },
  {
   "cell_type": "markdown",
   "metadata": {},
   "source": [
    "## Part b\n",
    "For the critical region $C$ defined in part a, find the values of $\\alpha$ and $\\beta$"
   ]
  },
  {
   "cell_type": "markdown",
   "metadata": {},
   "source": [
    "The amount of trials $n=4$ and $p=\\dfrac{3}{5}=0.6$<br>\n",
    "\n",
    "\n",
    "$\\alpha$ is the probability of rejecting the $H_0$ when in fact $H_0$ is true"
   ]
  },
  {
   "cell_type": "code",
   "execution_count": 25,
   "metadata": {},
   "outputs": [
    {
     "name": "stdout",
     "output_type": "stream",
     "text": [
      "Type I error is 17.92 %\n"
     ]
    }
   ],
   "source": [
    "k = np.arange(0,2)\n",
    "n = 4\n",
    "p = 0.6\n",
    "alpha = (stats.binom.pmf(k,n,p)).sum().round(4)\n",
    "print(\"Type I error is\",(alpha*100).round(2),\"%\")"
   ]
  },
  {
   "cell_type": "markdown",
   "metadata": {},
   "source": [
    "Let $p=\\dfrac{2}{5}=0.4$ for $\\beta$<br>\n",
    "\n",
    "\n",
    "$\\beta$ represents probability of not rejecting the $H_0$ when $H_0$ is in fact false"
   ]
  },
  {
   "cell_type": "code",
   "execution_count": 26,
   "metadata": {},
   "outputs": [
    {
     "name": "stdout",
     "output_type": "stream",
     "text": [
      "Type II error is 52.48 %\n"
     ]
    }
   ],
   "source": [
    "k = np.arange(0,2)\n",
    "n = 4\n",
    "p = 0.4\n",
    "alpha = (1-(stats.binom.pmf(k,n,p)).sum()).round(4)\n",
    "print(\"Type II error is\",(alpha*100).round(2),\"%\")"
   ]
  },
  {
   "cell_type": "markdown",
   "metadata": {},
   "source": [
    "# Problem 8.3-5\n",
    "If a newborn baby has a birth weigh that is less than 2500 grams (5.5 pounds), we say that the baby has a low birth weight.  The proportion of babies with a low birth weight is an indicator of lack of nutrition for the mothers.  For the United States, approximately 7% of babies have a low birth weight.  Let $p$ equal the proportion of babies born in Sudan who weight less thatn 2500 grams.  We shall test the null hypothesis $H_0:p=0.07$ against the alternative hypothesis $H_1:p>0.07$. In a random sample of $n=209$ babies, $y=23$ weighed less than 2500 grams."
   ]
  },
  {
   "cell_type": "markdown",
   "metadata": {},
   "source": [
    "## Part a \n",
    "What is your conclusion at a significance level of $\\alpha = 0.05$?"
   ]
  },
  {
   "cell_type": "markdown",
   "metadata": {},
   "source": [
    "$\\hat{p}=\\dfrac{x}{n}=\\dfrac{23}{209}\\approx0.11$<br>\n",
    "\n",
    "\n",
    "Calculate the test statistic,<br>\n",
    "\n",
    "\n",
    "$z=\\dfrac{\\hat{p}-p_0}{\\sqrt{p_0(1-p_0)/n}}$<br>\n",
    "\n",
    "\n",
    "$z=\\dfrac{0.11-0.07}{\\sqrt{0.07(1-0.07)/209}}\\approx2.27$<br>"
   ]
  },
  {
   "cell_type": "markdown",
   "metadata": {},
   "source": [
    "Critical value is $z_{0.05}=1.645$<br>\n",
    "\n",
    "\n",
    "Therefore, any value greater than 1.645 is in the critical region.<br>\n",
    "\n",
    "\n",
    "Since 2.27 > 1.645, we reject $H_0$"
   ]
  },
  {
   "cell_type": "markdown",
   "metadata": {},
   "source": [
    "## Part b\n",
    "What is your conclusion at a significance level of $\\alpha=0.01$"
   ]
  },
  {
   "cell_type": "markdown",
   "metadata": {},
   "source": [
    "$z_{0.01}=2.33$<br>\n",
    "\n",
    "\n",
    "Therefore, any value greater than 2.33 is in the critical region.<br>\n",
    "\n",
    "\n",
    "Since 2.27 < 2.33 we fail to reject $H_0$"
   ]
  },
  {
   "cell_type": "markdown",
   "metadata": {},
   "source": [
    "## Part c\n",
    "Find the $p$-value for this test."
   ]
  },
  {
   "cell_type": "markdown",
   "metadata": {},
   "source": [
    "$P(Z>2.27)=0.0116$"
   ]
  },
  {
   "cell_type": "markdown",
   "metadata": {},
   "source": [
    "# Problem 8.3-11\n",
    "A machine shop that manufactures toggle levers has both a day and a night shift.  A toggle lever is defective if a standard nut cannot be screwed onto the threads.  Let $p_1$ and $p_2$ be the proportion of defective levers among those manufactured by the day and night shifts, respectively.  We shall test the null hypothesis, $H_0:p_1=p_2$, against a two-sided alternative hypothesis based on two random samples, each of 1000 levers taken from the production of the respective shifts."
   ]
  },
  {
   "cell_type": "markdown",
   "metadata": {},
   "source": [
    "## Part a\n",
    "Define the test statistic and a critical region that has an $\\alpha=0.05$ significance level.  Sketch a standard normal pdf illustrating this critical region."
   ]
  },
  {
   "cell_type": "markdown",
   "metadata": {},
   "source": [
    "$z=\\dfrac{\\hat{p}_x-\\hat{p}_y}{\\sqrt{\\hat{p}_p(1-\\hat{p}_p)}\\sqrt{n^{-1}_x+n^{-1}_y}}$<br>\n",
    "\n",
    "\n",
    "Where $z$ is the test statistic."
   ]
  },
  {
   "cell_type": "code",
   "execution_count": 27,
   "metadata": {},
   "outputs": [
    {
     "data": {
      "image/png": "[encoded data removed]",
      "text/plain": [
       "<Figure size 432x288 with 1 Axes>"
      ]
     },
     "metadata": {},
     "output_type": "display_data"
    }
   ],
   "source": [
    "plt.style.use('ggplot')\n",
    "x = np.linspace(stats.norm.ppf(0.001),stats.norm.ppf(0.999),100)\n",
    "\n",
    "y = stats.norm.pdf(x)\n",
    "plt.plot(x, y,color='b')\n",
    "px = np.arange(1.96,stats.norm.ppf(0.999),0.001)\n",
    "npx = np.arange(stats.norm.ppf(0.001),-1.96,0.001)\n",
    "plt.fill_between(px,stats.norm.pdf(px),color='r')\n",
    "plt.fill_between(npx,stats.norm.pdf(npx),color='r')\n",
    "plt.show()"
   ]
  },
  {
   "cell_type": "markdown",
   "metadata": {},
   "source": [
    "## Part b\n",
    "$\\hat{p}_1=\\dfrac{37}{1000}=0.037$<br>\n",
    "\n",
    "\n",
    "$\\hat{p}_2=\\dfrac{53}{1000}=0.053$<br>\n",
    "\n",
    "\n",
    "$\\hat{p}_p=\\dfrac{53+37}{1000+1000}=0.045$<br>\n",
    "\n",
    "\n",
    "The rejection region is $z_{0.025}=\\pm1.96$"
   ]
  },
  {
   "cell_type": "markdown",
   "metadata": {},
   "source": [
    "$z = \\dfrac{0.037-0.053}{\\sqrt{0.045(1-0.045)}\\sqrt{\\dfrac{1}{2000}}}=-1.73$<br>\n",
    "\n",
    "\n",
    "Fail to reject $H_0$, since our test statistic above does not fall in the red area."
   ]
  },
  {
   "cell_type": "markdown",
   "metadata": {},
   "source": [
    "# Problem 8.3-14\n",
    "For developing countries in Africa and the Americas, let $p_1$ and $p_2$ be the respective proportions of babies with a low birth weight (below 2500 grams).  We shall test $H_0:p_1=p_2$ against the alternative hypothesis $H_1:p_1>p_2$."
   ]
  },
  {
   "cell_type": "markdown",
   "metadata": {},
   "source": [
    "## Part a\n",
    "Define a critical region that has an $\\alpha = 0.05$ significance level."
   ]
  },
  {
   "cell_type": "markdown",
   "metadata": {},
   "source": [
    "$z_{0.05}=1.645$, therefore the rejection region  is any value above 1.645"
   ]
  },
  {
   "cell_type": "markdown",
   "metadata": {},
   "source": [
    "## Part b\n",
    "If respective random samples of sizes $n_1=900$ and $n_2=700$ yielded $y_1=135$ and $y_2=77$ babies with a low birth weight, what is your conclusion?"
   ]
  },
  {
   "cell_type": "markdown",
   "metadata": {},
   "source": [
    "$\\hat{p}_1=\\dfrac{135}{900}=0.15$ and $\\hat{p}_2=\\dfrac{77}{700}=0.11$<br>\n",
    "\n",
    "\n",
    "$\\hat{p}_p=\\dfrac{135+77}{900+700}=0.1325$<br>\n",
    "\n",
    "\n",
    "The test statistic $z$ is <br>\n",
    "\n",
    "\n",
    "$z=\\dfrac{0.15-0.11}{\\sqrt{0.1325(1-0.1325)}\\sqrt{1/900+1/700}}=2.34$"
   ]
  },
  {
   "cell_type": "markdown",
   "metadata": {},
   "source": [
    "Since $2.34>1.645$ we reject $H_0$"
   ]
  },
  {
   "cell_type": "markdown",
   "metadata": {},
   "source": [
    "## Part c\n",
    "What would your decision be with a significance level of $\\alpha = 0.01$?"
   ]
  },
  {
   "cell_type": "markdown",
   "metadata": {},
   "source": [
    "Since $z_{0.01}=2.33$ we can compare against the above $z$ test statistic<br>\n",
    "\n",
    "\n",
    "$2.34>2.33$ we reject $H_0$ still."
   ]
  },
  {
   "cell_type": "markdown",
   "metadata": {},
   "source": [
    "## Part d\n",
    "What is the $p$-value of your test?"
   ]
  },
  {
   "cell_type": "markdown",
   "metadata": {},
   "source": [
    "$P(Z>2.34)=0.0096$"
   ]
  }
 ],
 "metadata": {
  "kernelspec": {
   "display_name": "Python 3",
   "language": "python",
   "name": "python3"
  },
  "language_info": {
   "codemirror_mode": {
    "name": "ipython",
    "version": 3
   },
   "file_extension": ".py",
   "mimetype": "text/x-python",
   "name": "python",
   "nbconvert_exporter": "python",
   "pygments_lexer": "ipython3",
   "version": "3.7.3"
  }
 },
 "nbformat": 4,
 "nbformat_minor": 2
}
