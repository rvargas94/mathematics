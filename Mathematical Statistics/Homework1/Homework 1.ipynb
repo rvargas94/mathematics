{
 "cells": [
  {
   "cell_type": "markdown",
   "metadata": {},
   "source": [
    "# Homework 1 - Math 565\n",
    "### Richard Vargas"
   ]
  },
  {
   "cell_type": "markdown",
   "metadata": {},
   "source": [
    "In the cell below, I import all libraries needed.\n",
    "Pandas contains the data structure Data Frame which makes structuring data easier\n",
    "Numpy allows for operations on the data\n",
    "Matplotlib is used for data visualization."
   ]
  },
  {
   "cell_type": "code",
   "execution_count": 1,
   "metadata": {},
   "outputs": [],
   "source": [
    "import pandas as pd\n",
    "import numpy as np\n",
    "import matplotlib.pyplot as plt"
   ]
  },
  {
   "cell_type": "markdown",
   "metadata": {},
   "source": [
    "# Problem 6.1-4\n",
    "Here I import the homework data, give a column name, and display some of the data."
   ]
  },
  {
   "cell_type": "code",
   "execution_count": 2,
   "metadata": {},
   "outputs": [
    {
     "data": {
      "text/html": [
       "<div>\n",
       "<style scoped>\n",
       "    .dataframe tbody tr th:only-of-type {\n",
       "        vertical-align: middle;\n",
       "    }\n",
       "\n",
       "    .dataframe tbody tr th {\n",
       "        vertical-align: top;\n",
       "    }\n",
       "\n",
       "    .dataframe thead th {\n",
       "        text-align: right;\n",
       "    }\n",
       "</style>\n",
       "<table border=\"1\" class=\"dataframe\">\n",
       "  <thead>\n",
       "    <tr style=\"text-align: right;\">\n",
       "      <th></th>\n",
       "      <th>Melting_Pt</th>\n",
       "    </tr>\n",
       "  </thead>\n",
       "  <tbody>\n",
       "    <tr>\n",
       "      <td>0</td>\n",
       "      <td>320</td>\n",
       "    </tr>\n",
       "    <tr>\n",
       "      <td>1</td>\n",
       "      <td>326</td>\n",
       "    </tr>\n",
       "    <tr>\n",
       "      <td>2</td>\n",
       "      <td>325</td>\n",
       "    </tr>\n",
       "    <tr>\n",
       "      <td>3</td>\n",
       "      <td>318</td>\n",
       "    </tr>\n",
       "    <tr>\n",
       "      <td>4</td>\n",
       "      <td>322</td>\n",
       "    </tr>\n",
       "  </tbody>\n",
       "</table>\n",
       "</div>"
      ],
      "text/plain": [
       "   Melting_Pt\n",
       "0         320\n",
       "1         326\n",
       "2         325\n",
       "3         318\n",
       "4         322"
      ]
     },
     "execution_count": 2,
     "metadata": {},
     "output_type": "execute_result"
    }
   ],
   "source": [
    "Problem6_1_4data = pd.read_csv('E6_1-04.txt',sep=\" \", header=None)\n",
    "Problem6_1_4data.rename(columns={0:\"Melting_Pt\"},inplace=True)\n",
    "Problem6_1_4data.head()"
   ]
  },
  {
   "cell_type": "markdown",
   "metadata": {},
   "source": [
    "## Part a\n",
    "A histogram, which auto generates bin size. "
   ]
  },
  {
   "cell_type": "code",
   "execution_count": 3,
   "metadata": {},
   "outputs": [
    {
     "data": {
      "image/png": "[encoded data removed]",
      "text/plain": [
       "<Figure size 432x288 with 1 Axes>"
      ]
     },
     "metadata": {
      "needs_background": "light"
     },
     "output_type": "display_data"
    }
   ],
   "source": [
    "Problem6_1_4data.plot(kind='hist',rwidth=0.9)\n",
    "plt.xlabel(Problem6_1_4data.columns.values[0])\n",
    "plt.show()"
   ]
  },
  {
   "cell_type": "markdown",
   "metadata": {},
   "source": [
    "## Part b\n",
    "Calculation of mean and standard deviation."
   ]
  },
  {
   "cell_type": "code",
   "execution_count": 4,
   "metadata": {},
   "outputs": [
    {
     "name": "stdout",
     "output_type": "stream",
     "text": [
      "The mean of the data is 320.1\n",
      "The standard deviation is 6.682065548915245\n"
     ]
    }
   ],
   "source": [
    "dataMean = np.mean(Problem6_1_4data.values)\n",
    "print(\"The mean of the data is\",dataMean)\n",
    "\n",
    "dataStd = np.std(Problem6_1_4data.values)\n",
    "print(\"The standard deviation is\",dataStd)"
   ]
  },
  {
   "cell_type": "markdown",
   "metadata": {},
   "source": [
    "## Part c\n",
    "Below is the amount of elements 1 and 2 standard deviations away"
   ]
  },
  {
   "cell_type": "code",
   "execution_count": 5,
   "metadata": {},
   "outputs": [
    {
     "name": "stdout",
     "output_type": "stream",
     "text": [
      "The amount of elements within 1 standard deviation is 31\n",
      "The amount of elements within 2 standard deviation is 48\n"
     ]
    }
   ],
   "source": [
    "sd1Count = 0\n",
    "sd2Count = 0\n",
    "for c in Problem6_1_4data.values:\n",
    "    if(c <= dataMean+2*dataStd and c >= dataMean-2*dataStd):\n",
    "        sd2Count+=1\n",
    "        if(c <= dataMean+dataStd and c >= dataMean-dataStd):\n",
    "            sd1Count+=1\n",
    "            \n",
    "print(\"The amount of elements within 1 standard deviation is\",sd1Count)\n",
    "print(\"The amount of elements within 2 standard deviation is\",sd2Count)"
   ]
  },
  {
   "cell_type": "markdown",
   "metadata": {},
   "source": [
    "# Problem 6.1-5"
   ]
  },
  {
   "cell_type": "code",
   "execution_count": 6,
   "metadata": {},
   "outputs": [
    {
     "data": {
      "text/html": [
       "<div>\n",
       "<style scoped>\n",
       "    .dataframe tbody tr th:only-of-type {\n",
       "        vertical-align: middle;\n",
       "    }\n",
       "\n",
       "    .dataframe tbody tr th {\n",
       "        vertical-align: top;\n",
       "    }\n",
       "\n",
       "    .dataframe thead th {\n",
       "        text-align: right;\n",
       "    }\n",
       "</style>\n",
       "<table border=\"1\" class=\"dataframe\">\n",
       "  <thead>\n",
       "    <tr style=\"text-align: right;\">\n",
       "      <th></th>\n",
       "      <th>Successive_Bets</th>\n",
       "    </tr>\n",
       "  </thead>\n",
       "  <tbody>\n",
       "    <tr>\n",
       "      <td>0</td>\n",
       "      <td>23</td>\n",
       "    </tr>\n",
       "    <tr>\n",
       "      <td>1</td>\n",
       "      <td>127</td>\n",
       "    </tr>\n",
       "    <tr>\n",
       "      <td>2</td>\n",
       "      <td>877</td>\n",
       "    </tr>\n",
       "    <tr>\n",
       "      <td>3</td>\n",
       "      <td>65</td>\n",
       "    </tr>\n",
       "    <tr>\n",
       "      <td>4</td>\n",
       "      <td>101</td>\n",
       "    </tr>\n",
       "  </tbody>\n",
       "</table>\n",
       "</div>"
      ],
      "text/plain": [
       "   Successive_Bets\n",
       "0               23\n",
       "1              127\n",
       "2              877\n",
       "3               65\n",
       "4              101"
      ]
     },
     "execution_count": 6,
     "metadata": {},
     "output_type": "execute_result"
    }
   ],
   "source": [
    "Problem6_1_5data = pd.read_csv('E6_1-05.txt',sep=\" \", header=None)\n",
    "Problem6_1_5data.rename(columns={0:\"Successive_Bets\"},inplace=True)\n",
    "Problem6_1_5data.head()"
   ]
  },
  {
   "cell_type": "markdown",
   "metadata": {},
   "source": [
    "## Part a\n",
    "Finding sample mean and sample standard deviation"
   ]
  },
  {
   "cell_type": "code",
   "execution_count": 7,
   "metadata": {},
   "outputs": [
    {
     "name": "stdout",
     "output_type": "stream",
     "text": [
      "The mean of the data is 112.12\n",
      "The standard deviation is 230.19788356976701\n"
     ]
    }
   ],
   "source": [
    "dataMean = np.mean(Problem6_1_5data.values)\n",
    "print(\"The mean of the data is\",dataMean)\n",
    "\n",
    "dataStd = np.std(Problem6_1_5data.values)\n",
    "print(\"The standard deviation is\",dataStd)"
   ]
  },
  {
   "cell_type": "markdown",
   "metadata": {},
   "source": [
    "## Part b\n",
    "Histogram of the data."
   ]
  },
  {
   "cell_type": "code",
   "execution_count": 8,
   "metadata": {
    "scrolled": true
   },
   "outputs": [
    {
     "data": {
      "image/png": "[encoded data removed]",
      "text/plain": [
       "<Figure size 432x288 with 1 Axes>"
      ]
     },
     "metadata": {
      "needs_background": "light"
     },
     "output_type": "display_data"
    }
   ],
   "source": [
    "Problem6_1_5data.plot(kind='hist',density=True,bins=[0,25,50,75,100,125,150,Problem6_1_5data.values.max()],rwidth=0.9)\n",
    "plt.xlabel(Problem6_1_5data.columns.values[0])\n",
    "plt.show()"
   ]
  },
  {
   "cell_type": "markdown",
   "metadata": {},
   "source": [
    "## Part c\n",
    "Locating x bar, and the 1, 2 and 3, standard deviations."
   ]
  },
  {
   "cell_type": "code",
   "execution_count": 9,
   "metadata": {},
   "outputs": [
    {
     "name": "stdout",
     "output_type": "stream",
     "text": [
      "x bar is 112.12\n",
      "x bar +/- one standard deviation is 342.317883569767 and -118.07788356976701\n",
      "x bar +/- two standard deviation is 572.5157671395341 and -348.275767139534\n",
      "x bar +/- three standard deviation is 802.7136507093011 and -578.4736507093011\n"
     ]
    }
   ],
   "source": [
    "print(\"x bar is\",dataMean)\n",
    "print(\"x bar +/- one standard deviation is\",dataMean+dataStd,\"and\",dataMean-dataStd)\n",
    "print(\"x bar +/- two standard deviation is\",dataMean+2*dataStd,\"and\",dataMean-2*dataStd)\n",
    "print(\"x bar +/- three standard deviation is\",dataMean+3*dataStd,\"and\",dataMean-3*dataStd)"
   ]
  },
  {
   "cell_type": "markdown",
   "metadata": {},
   "source": [
    "## Part d\n",
    "This data is heavily skewed, so using the median would be better than the mean, since the median is more robust to skewed data."
   ]
  },
  {
   "cell_type": "markdown",
   "metadata": {},
   "source": [
    "# Problem 6.1-8"
   ]
  },
  {
   "cell_type": "code",
   "execution_count": 10,
   "metadata": {},
   "outputs": [
    {
     "data": {
      "text/html": [
       "<div>\n",
       "<style scoped>\n",
       "    .dataframe tbody tr th:only-of-type {\n",
       "        vertical-align: middle;\n",
       "    }\n",
       "\n",
       "    .dataframe tbody tr th {\n",
       "        vertical-align: top;\n",
       "    }\n",
       "\n",
       "    .dataframe thead th {\n",
       "        text-align: right;\n",
       "    }\n",
       "</style>\n",
       "<table border=\"1\" class=\"dataframe\">\n",
       "  <thead>\n",
       "    <tr style=\"text-align: right;\">\n",
       "      <th></th>\n",
       "      <th>Mirror_Weight(g)</th>\n",
       "    </tr>\n",
       "  </thead>\n",
       "  <tbody>\n",
       "    <tr>\n",
       "      <td>0</td>\n",
       "      <td>3.968</td>\n",
       "    </tr>\n",
       "    <tr>\n",
       "      <td>1</td>\n",
       "      <td>3.534</td>\n",
       "    </tr>\n",
       "    <tr>\n",
       "      <td>2</td>\n",
       "      <td>4.032</td>\n",
       "    </tr>\n",
       "    <tr>\n",
       "      <td>3</td>\n",
       "      <td>3.912</td>\n",
       "    </tr>\n",
       "    <tr>\n",
       "      <td>4</td>\n",
       "      <td>3.572</td>\n",
       "    </tr>\n",
       "  </tbody>\n",
       "</table>\n",
       "</div>"
      ],
      "text/plain": [
       "   Mirror_Weight(g)\n",
       "0             3.968\n",
       "1             3.534\n",
       "2             4.032\n",
       "3             3.912\n",
       "4             3.572"
      ]
     },
     "execution_count": 10,
     "metadata": {},
     "output_type": "execute_result"
    }
   ],
   "source": [
    "Problem6_1_8data = pd.read_csv('E6_1-08.txt',sep=\" \", header=None)\n",
    "Problem6_1_8data.rename(columns={0:\"Mirror_Weight(g)\"},inplace=True)\n",
    "Problem6_1_8data.head()"
   ]
  },
  {
   "cell_type": "markdown",
   "metadata": {},
   "source": [
    "## Part a\n",
    "Create a frequency distribution"
   ]
  },
  {
   "cell_type": "code",
   "execution_count": 11,
   "metadata": {},
   "outputs": [
    {
     "name": "stdout",
     "output_type": "stream",
     "text": [
      "   class  frequency\n",
      "0  3.511          8\n",
      "1  3.582         27\n",
      "2  3.653         29\n",
      "3  3.724          3\n",
      "4  3.795          8\n",
      "5  3.866         17\n",
      "6  3.937         28\n",
      "7  4.008         17\n",
      "8  4.079          2\n"
     ]
    }
   ],
   "source": [
    "dataRange=Problem6_1_8data.values.max()-Problem6_1_8data.values.min()\n",
    "classSize=(dataRange/8).round(decimals=3)\n",
    "currentNum = Problem6_1_8data.values.min()\n",
    "dataBins = {}\n",
    "while(currentNum<Problem6_1_8data.values.max()):\n",
    "    dataBins[currentNum.round(decimals=3)]=0\n",
    "    currentNum += classSize\n",
    "for a in Problem6_1_8data.values:\n",
    "    for x in dataBins:\n",
    "        if (a>=x and a<x+classSize):\n",
    "            dataBins[x]+=1\n",
    "            break\n",
    "        if (x==4.079):\n",
    "            dataBins[x]+=1\n",
    "            \n",
    "freqDist=pd.DataFrame(list(dataBins.items()))\n",
    "freqDist.rename(columns={0:\"class\",1:\"frequency\"},inplace=True)\n",
    "print(freqDist)"
   ]
  },
  {
   "cell_type": "markdown",
   "metadata": {},
   "source": [
    "## Part b\n",
    "Draw histogram of the data"
   ]
  },
  {
   "cell_type": "code",
   "execution_count": 12,
   "metadata": {},
   "outputs": [
    {
     "data": {
      "image/png": "[encoded data removed]",
      "text/plain": [
       "<Figure size 432x288 with 1 Axes>"
      ]
     },
     "metadata": {
      "needs_background": "light"
     },
     "output_type": "display_data"
    }
   ],
   "source": [
    "Problem6_1_8data.plot(kind='hist',rwidth=0.9,bins=9)\n",
    "plt.xlabel(Problem6_1_8data.columns.values[0])\n",
    "plt.show()"
   ]
  },
  {
   "cell_type": "markdown",
   "metadata": {},
   "source": [
    "## Part c\n",
    "The shape of this graph has two peaks, making it bimodal."
   ]
  },
  {
   "cell_type": "markdown",
   "metadata": {},
   "source": [
    "# Problem 6.2-2"
   ]
  },
  {
   "cell_type": "code",
   "execution_count": 13,
   "metadata": {
    "scrolled": false
   },
   "outputs": [
    {
     "data": {
      "text/html": [
       "<div>\n",
       "<style scoped>\n",
       "    .dataframe tbody tr th:only-of-type {\n",
       "        vertical-align: middle;\n",
       "    }\n",
       "\n",
       "    .dataframe tbody tr th {\n",
       "        vertical-align: top;\n",
       "    }\n",
       "\n",
       "    .dataframe thead th {\n",
       "        text-align: right;\n",
       "    }\n",
       "</style>\n",
       "<table border=\"1\" class=\"dataframe\">\n",
       "  <thead>\n",
       "    <tr style=\"text-align: right;\">\n",
       "      <th></th>\n",
       "      <th>Baby_Carrot_Wt</th>\n",
       "      <th>Reg_Carrot_Wt</th>\n",
       "    </tr>\n",
       "  </thead>\n",
       "  <tbody>\n",
       "    <tr>\n",
       "      <td>0</td>\n",
       "      <td>1.03</td>\n",
       "      <td>1.29</td>\n",
       "    </tr>\n",
       "    <tr>\n",
       "      <td>1</td>\n",
       "      <td>1.03</td>\n",
       "      <td>1.10</td>\n",
       "    </tr>\n",
       "    <tr>\n",
       "      <td>2</td>\n",
       "      <td>1.06</td>\n",
       "      <td>1.28</td>\n",
       "    </tr>\n",
       "    <tr>\n",
       "      <td>3</td>\n",
       "      <td>1.02</td>\n",
       "      <td>1.29</td>\n",
       "    </tr>\n",
       "    <tr>\n",
       "      <td>4</td>\n",
       "      <td>1.03</td>\n",
       "      <td>1.23</td>\n",
       "    </tr>\n",
       "  </tbody>\n",
       "</table>\n",
       "</div>"
      ],
      "text/plain": [
       "   Baby_Carrot_Wt  Reg_Carrot_Wt\n",
       "0            1.03           1.29\n",
       "1            1.03           1.10\n",
       "2            1.06           1.28\n",
       "3            1.02           1.29\n",
       "4            1.03           1.23"
      ]
     },
     "execution_count": 13,
     "metadata": {},
     "output_type": "execute_result"
    }
   ],
   "source": [
    "Problem6_2_2data = pd.read_csv('E6_2-02.txt',sep=\"\\t\", header=None)\n",
    "Problem6_2_2data.rename(columns={0:\"Baby_Carrot_Wt\",1:\"Reg_Carrot_Wt\"},inplace=True)\n",
    "Problem6_2_2data.head()"
   ]
  },
  {
   "cell_type": "markdown",
   "metadata": {},
   "source": [
    "## Part a\n",
    "\n",
    "Calculate the five-number summary of each set of weights"
   ]
  },
  {
   "cell_type": "code",
   "execution_count": 14,
   "metadata": {},
   "outputs": [
    {
     "name": "stdout",
     "output_type": "stream",
     "text": [
      "The minimum of baby carrots is 1.02\n",
      "The lower quartile is 1.03\n",
      "The median is 1.04\n",
      "The upper quartile is 1.04\n",
      "The maximum is 1.06 \n",
      "\n",
      "The minimum of regular carrots is 1.0\n",
      "The lower quartile is 1.15\n",
      "The median is 1.21\n",
      "The upper quartile is 1.25\n",
      "The maximum is 1.43\n"
     ]
    }
   ],
   "source": [
    "Baby_Carrot_Quartile = np.percentile(Problem6_2_2data.loc[:,\"Baby_Carrot_Wt\"].values,[25,50,75])\n",
    "Baby_Carrot_Min, Baby_Carrot_Max = Problem6_2_2data.loc[:,\"Baby_Carrot_Wt\"].values.min(),Problem6_2_2data.loc[:,\"Baby_Carrot_Wt\"].values.max()\n",
    "print(\"The minimum of baby carrots is\",Baby_Carrot_Min)\n",
    "print(\"The lower quartile is\",Baby_Carrot_Quartile[0])\n",
    "print(\"The median is\",Baby_Carrot_Quartile[1])\n",
    "print(\"The upper quartile is\",Baby_Carrot_Quartile[2])\n",
    "print(\"The maximum is\",Baby_Carrot_Max,\"\\n\")\n",
    "\n",
    "Reg_Carrot_Quartile = np.percentile(Problem6_2_2data.loc[:,\"Reg_Carrot_Wt\"].values,[25,50,75])\n",
    "Reg_Carrot_Min, Reg_Carrot_Max = Problem6_2_2data.loc[:,\"Reg_Carrot_Wt\"].values.min(),Problem6_2_2data.loc[:,\"Reg_Carrot_Wt\"].values.max()\n",
    "print(\"The minimum of regular carrots is\",Reg_Carrot_Min)\n",
    "print(\"The lower quartile is\",Reg_Carrot_Quartile[0].round(2))\n",
    "print(\"The median is\",Reg_Carrot_Quartile[1])\n",
    "print(\"The upper quartile is\",Reg_Carrot_Quartile[2].round(2))\n",
    "print(\"The maximum is\",Reg_Carrot_Max)"
   ]
  },
  {
   "cell_type": "markdown",
   "metadata": {},
   "source": [
    "## Part b\n",
    "Construct a box plot for each set of weights"
   ]
  },
  {
   "cell_type": "code",
   "execution_count": 15,
   "metadata": {},
   "outputs": [
    {
     "data": {
      "image/png": "[encoded data removed]",
      "text/plain": [
       "<Figure size 432x288 with 1 Axes>"
      ]
     },
     "metadata": {
      "needs_background": "light"
     },
     "output_type": "display_data"
    }
   ],
   "source": [
    "plt.boxplot(Problem6_2_2data.values,labels=Problem6_2_2data.columns)\n",
    "plt.show()"
   ]
  },
  {
   "cell_type": "markdown",
   "metadata": {},
   "source": [
    "## Part c\n",
    "If the carrots are the same price per package, the regular carrots would be a better purchase, since they are most likely to be heavier and thus contain more."
   ]
  },
  {
   "cell_type": "markdown",
   "metadata": {},
   "source": [
    "# Problem 6.2-4"
   ]
  },
  {
   "cell_type": "code",
   "execution_count": 16,
   "metadata": {},
   "outputs": [
    {
     "data": {
      "text/html": [
       "<div>\n",
       "<style scoped>\n",
       "    .dataframe tbody tr th:only-of-type {\n",
       "        vertical-align: middle;\n",
       "    }\n",
       "\n",
       "    .dataframe tbody tr th {\n",
       "        vertical-align: top;\n",
       "    }\n",
       "\n",
       "    .dataframe thead th {\n",
       "        text-align: right;\n",
       "    }\n",
       "</style>\n",
       "<table border=\"1\" class=\"dataframe\">\n",
       "  <thead>\n",
       "    <tr style=\"text-align: right;\">\n",
       "      <th></th>\n",
       "      <th>Losses($10,000)</th>\n",
       "    </tr>\n",
       "  </thead>\n",
       "  <tbody>\n",
       "    <tr>\n",
       "      <td>0</td>\n",
       "      <td>1</td>\n",
       "    </tr>\n",
       "    <tr>\n",
       "      <td>1</td>\n",
       "      <td>2</td>\n",
       "    </tr>\n",
       "    <tr>\n",
       "      <td>2</td>\n",
       "      <td>2</td>\n",
       "    </tr>\n",
       "    <tr>\n",
       "      <td>3</td>\n",
       "      <td>3</td>\n",
       "    </tr>\n",
       "    <tr>\n",
       "      <td>4</td>\n",
       "      <td>3</td>\n",
       "    </tr>\n",
       "  </tbody>\n",
       "</table>\n",
       "</div>"
      ],
      "text/plain": [
       "   Losses($10,000)\n",
       "0                1\n",
       "1                2\n",
       "2                2\n",
       "3                3\n",
       "4                3"
      ]
     },
     "execution_count": 16,
     "metadata": {},
     "output_type": "execute_result"
    }
   ],
   "source": [
    "Problem6_2_4data = pd.read_csv('E6_2-04.txt',sep=\" \", header=None)\n",
    "Problem6_2_4data.rename(columns={0:\"Losses($10,000)\"},inplace=True)\n",
    "Problem6_2_4data.head()"
   ]
  },
  {
   "cell_type": "markdown",
   "metadata": {},
   "source": [
    "## Part a\n",
    "Create five-number summary of the data and draw a box-and-whisker diagram"
   ]
  },
  {
   "cell_type": "code",
   "execution_count": 17,
   "metadata": {},
   "outputs": [
    {
     "name": "stdout",
     "output_type": "stream",
     "text": [
      "The minimum of losses(in thousands) is 1\n",
      "The lower quartile is 7.0\n",
      "The median is 32.0\n",
      "The upper quartile is 80.0\n",
      "The maximum is 527 \n",
      "\n"
     ]
    },
    {
     "data": {
      "image/png": "[encoded data removed]",
      "text/plain": [
       "<Figure size 432x288 with 1 Axes>"
      ]
     },
     "metadata": {
      "needs_background": "light"
     },
     "output_type": "display_data"
    }
   ],
   "source": [
    "Losses_Quartile = np.percentile(Problem6_2_4data.values,[25,50,75])\n",
    "Losses_Min, Losses_Max = Problem6_2_4data.values.min(),Problem6_2_4data.values.max()\n",
    "print(\"The minimum of losses(in thousands) is\",Losses_Min)\n",
    "print(\"The lower quartile is\",Losses_Quartile[0])\n",
    "print(\"The median is\",Losses_Quartile[1])\n",
    "print(\"The upper quartile is\",Losses_Quartile[2])\n",
    "print(\"The maximum is\",Losses_Max,\"\\n\")\n",
    "\n",
    "plt.boxplot(Problem6_2_4data.values,labels=Problem6_2_4data.columns)\n",
    "plt.show()"
   ]
  },
  {
   "cell_type": "markdown",
   "metadata": {},
   "source": [
    "## Part b\n",
    "Calculate the IQR and the locations of the inner and outer fences"
   ]
  },
  {
   "cell_type": "code",
   "execution_count": 18,
   "metadata": {},
   "outputs": [
    {
     "name": "stdout",
     "output_type": "stream",
     "text": [
      "The IQR of the losses is 105.0 and -41.0\n",
      "The inner fences of the losses is -102.5 and 189.5\n",
      "The outer fences of the losses is -212.0 and 299.0\n"
     ]
    }
   ],
   "source": [
    "dataIQR = Losses_Quartile[2]-Losses_Quartile[0]\n",
    "inner_Fence = dataIQR * 1.5\n",
    "outer_Fence = dataIQR * 3\n",
    "\n",
    "print(\"The IQR of the losses is\",Losses_Quartile[1]+dataIQR, \"and\",Losses_Quartile[1]-dataIQR)\n",
    "print(\"The inner fences of the losses is\",Losses_Quartile[0]-inner_Fence,\"and\",Losses_Quartile[2]+inner_Fence)\n",
    "print(\"The outer fences of the losses is\",Losses_Quartile[0]-outer_Fence,\"and\",Losses_Quartile[2]+outer_Fence)"
   ]
  },
  {
   "cell_type": "markdown",
   "metadata": {},
   "source": [
    "## Part c\n",
    "Draw a box plot that shows fences, suspected outliers, and outliers\n",
    "(See Part a)"
   ]
  },
  {
   "cell_type": "markdown",
   "metadata": {},
   "source": [
    "## Part d\n",
    "Describe the distribution of losses\n",
    "Much of the losses are less than 180,000, with outliers in the 180,000 - 350,000 range.  There is one extreme outlier in the $550,000 area "
   ]
  },
  {
   "cell_type": "markdown",
   "metadata": {},
   "source": [
    "# Problem 6.2-10"
   ]
  },
  {
   "cell_type": "code",
   "execution_count": 19,
   "metadata": {},
   "outputs": [
    {
     "data": {
      "text/html": [
       "<div>\n",
       "<style scoped>\n",
       "    .dataframe tbody tr th:only-of-type {\n",
       "        vertical-align: middle;\n",
       "    }\n",
       "\n",
       "    .dataframe tbody tr th {\n",
       "        vertical-align: top;\n",
       "    }\n",
       "\n",
       "    .dataframe thead th {\n",
       "        text-align: right;\n",
       "    }\n",
       "</style>\n",
       "<table border=\"1\" class=\"dataframe\">\n",
       "  <thead>\n",
       "    <tr style=\"text-align: right;\">\n",
       "      <th></th>\n",
       "      <th>1976_Pb_Con(ug/m^3)</th>\n",
       "      <th>1977_Pb_Con(ug/m^3)</th>\n",
       "    </tr>\n",
       "  </thead>\n",
       "  <tbody>\n",
       "    <tr>\n",
       "      <td>0</td>\n",
       "      <td>6.7</td>\n",
       "      <td>9.5</td>\n",
       "    </tr>\n",
       "    <tr>\n",
       "      <td>1</td>\n",
       "      <td>5.4</td>\n",
       "      <td>10.7</td>\n",
       "    </tr>\n",
       "    <tr>\n",
       "      <td>2</td>\n",
       "      <td>5.2</td>\n",
       "      <td>8.3</td>\n",
       "    </tr>\n",
       "    <tr>\n",
       "      <td>3</td>\n",
       "      <td>6.0</td>\n",
       "      <td>9.8</td>\n",
       "    </tr>\n",
       "    <tr>\n",
       "      <td>4</td>\n",
       "      <td>8.7</td>\n",
       "      <td>9.1</td>\n",
       "    </tr>\n",
       "  </tbody>\n",
       "</table>\n",
       "</div>"
      ],
      "text/plain": [
       "   1976_Pb_Con(ug/m^3)  1977_Pb_Con(ug/m^3)\n",
       "0                  6.7                  9.5\n",
       "1                  5.4                 10.7\n",
       "2                  5.2                  8.3\n",
       "3                  6.0                  9.8\n",
       "4                  8.7                  9.1"
      ]
     },
     "execution_count": 19,
     "metadata": {},
     "output_type": "execute_result"
    }
   ],
   "source": [
    "Problem6_2_10data = pd.read_csv('E6_2-10.txt',sep=\"\\t\", header=None)\n",
    "Problem6_2_10data.rename(columns={0:\"1976_Pb_Con(ug/m^3)\",1:\"1977_Pb_Con(ug/m^3)\"},inplace=True)\n",
    "Problem6_2_10data.head()"
   ]
  },
  {
   "cell_type": "markdown",
   "metadata": {},
   "source": [
    "## Part a\n",
    "Construct a frequency distribution and display the results in the form of a histogram.  Is this distribution symmetric?"
   ]
  },
  {
   "cell_type": "code",
   "execution_count": 20,
   "metadata": {},
   "outputs": [
    {
     "data": {
      "image/png": "[encoded data removed]",
      "text/plain": [
       "<Figure size 432x288 with 1 Axes>"
      ]
     },
     "metadata": {
      "needs_background": "light"
     },
     "output_type": "display_data"
    }
   ],
   "source": [
    "Problem6_2_10data.loc[:,\"1977_Pb_Con(ug/m^3)\"].values\n",
    "Problem6_2_10data.loc[:,\"1977_Pb_Con(ug/m^3)\"].plot(kind='hist',rwidth=0.9,bins=10)\n",
    "plt.xlabel(Problem6_2_10data.columns.values[0])\n",
    "plt.show()"
   ]
  },
  {
   "cell_type": "markdown",
   "metadata": {},
   "source": [
    "The above histogram appears to be symmetric and normal."
   ]
  },
  {
   "cell_type": "markdown",
   "metadata": {},
   "source": [
    "## Part b\n",
    "Calculate the sample mean and sample standard deviation"
   ]
  },
  {
   "cell_type": "code",
   "execution_count": 21,
   "metadata": {},
   "outputs": [
    {
     "name": "stdout",
     "output_type": "stream",
     "text": [
      "The mean of the data is 9.4\n",
      "The standard deviation is 2.1\n"
     ]
    }
   ],
   "source": [
    "dataMean = np.mean(Problem6_2_10data.loc[:,\"1977_Pb_Con(ug/m^3)\"].values).round(1)\n",
    "print(\"The mean of the data is\",dataMean)\n",
    "\n",
    "dataStd = np.std(Problem6_2_10data.loc[:,\"1977_Pb_Con(ug/m^3)\"].values).round(1)\n",
    "print(\"The standard deviation is\",dataStd)"
   ]
  },
  {
   "cell_type": "markdown",
   "metadata": {},
   "source": [
    "## Part c\n",
    "Locate x_bar and x_bar +/- std dev.\n",
    "How many observations lie within one standard deviation of the mean?\n",
    "How many lie within two?"
   ]
  },
  {
   "cell_type": "code",
   "execution_count": 22,
   "metadata": {},
   "outputs": [
    {
     "name": "stdout",
     "output_type": "stream",
     "text": [
      "There are 48 elements within one standard deviation\n",
      "There are 60 elements within two standard deviations\n"
     ]
    }
   ],
   "source": [
    "std_dev1_count=0\n",
    "std_dev2_count =0\n",
    "for a in Problem6_2_10data.loc[:,\"1977_Pb_Con(ug/m^3)\"].values:\n",
    "    if(a<=dataMean+dataStd and a>=dataMean-dataStd):\n",
    "        std_dev1_count += 1\n",
    "    if(a<=dataMean+2*dataStd and a>=dataMean-2*dataStd):\n",
    "        std_dev2_count += 1  \n",
    "print(\"There are\",std_dev1_count,\"elements within one standard deviation\\n\"\n",
    "      \"There are\",std_dev2_count,\"elements within two standard deviations\")"
   ]
  },
  {
   "cell_type": "markdown",
   "metadata": {},
   "source": [
    "## Part d\n",
    "Using the 1976 and 1977 data create a stem and leaf plot"
   ]
  },
  {
   "cell_type": "code",
   "execution_count": 23,
   "metadata": {},
   "outputs": [
    {
     "data": {
      "image/png": "[encoded data removed]",
      "text/plain": [
       "<Figure size 432x288 with 1 Axes>"
      ]
     },
     "metadata": {
      "needs_background": "light"
     },
     "output_type": "display_data"
    }
   ],
   "source": [
    "plt_1976 = plt.stem(Problem6_2_10data.loc[:,\"1976_Pb_Con(ug/m^3)\"].values,use_line_collection=True)\n",
    "plt_1977 = plt.stem(Problem6_2_10data.loc[:,\"1977_Pb_Con(ug/m^3)\"].values,use_line_collection=True)\n",
    "\n",
    "plt.show(plt_1976)\n",
    "plt.show(plt_1977)\n"
   ]
  },
  {
   "cell_type": "markdown",
   "metadata": {},
   "source": [
    "## Part e\n",
    "Construct box-and-whisker displays of both data sets"
   ]
  },
  {
   "cell_type": "code",
   "execution_count": 24,
   "metadata": {},
   "outputs": [
    {
     "data": {
      "image/png": "[encoded data removed]",
      "text/plain": [
       "<Figure size 432x288 with 1 Axes>"
      ]
     },
     "metadata": {
      "needs_background": "light"
     },
     "output_type": "display_data"
    }
   ],
   "source": [
    "plt.boxplot(Problem6_2_10data.values,labels=Problem6_2_10data.columns)\n",
    "plt.show()"
   ]
  },
  {
   "cell_type": "markdown",
   "metadata": {},
   "source": [
    "## Part f\n",
    "It appears that the 1977 lead concentration is typically higher than measured in 1976.  This can be seen by the boxplot above.  "
   ]
  }
 ],
 "metadata": {
  "kernelspec": {
   "display_name": "Python 3",
   "language": "python",
   "name": "python3"
  },
  "language_info": {
   "codemirror_mode": {
    "name": "ipython",
    "version": 3
   },
   "file_extension": ".py",
   "mimetype": "text/x-python",
   "name": "python",
   "nbconvert_exporter": "python",
   "pygments_lexer": "ipython3",
   "version": "3.7.3"
  }
 },
 "nbformat": 4,
 "nbformat_minor": 2
}
