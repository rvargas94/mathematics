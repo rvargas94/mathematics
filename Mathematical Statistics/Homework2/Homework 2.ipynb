{
 "cells": [
  {
   "cell_type": "markdown",
   "metadata": {},
   "source": [
    "# Problem 6.3-3\n",
    "Let $Y_1<Y_2<Y_3<Y_4<Y_5$ be the order statistics of five independent observations from an exponential distribution that has a mean of $\\theta=3$"
   ]
  },
  {
   "cell_type": "markdown",
   "metadata": {},
   "source": [
    "## Part a\n",
    "Find the PDF of the sample median $Y_3$ <br>\n",
    "\n",
    "The probability density of $Y_k$, the $k^{th}$ order statistic for a sample size $n$ is:<br>\n",
    "<center>$g_k (y_k) = \\dfrac{n!}{(k-1)!(n-k)!}[F(y)]^{k-1}[1-F(y)]^{n-k}f(y)$<br></center>"
   ]
  },
  {
   "cell_type": "markdown",
   "metadata": {},
   "source": [
    "Let $\\dfrac{1}{\\lambda}$ = $\\theta$(mean) <br>$\\therefore \\lambda = \\dfrac{1}{3}$  <br>\n"
   ]
  },
  {
   "cell_type": "markdown",
   "metadata": {},
   "source": [
    "The PDF of exponential distribution is <br><center>$f(x;\\lambda)=\\lambda e^{- \\lambda x}$ such that $ x \\geq 0$<br></center>\n",
    "\n",
    "And the CDF is<br>\n",
    "<center>$F(x;\\lambda)=1-e^{-\\lambda x}$ such that $x \\geq 0$<br></center>"
   ]
  },
  {
   "cell_type": "markdown",
   "metadata": {},
   "source": [
    "Plugging y for x and $\\lambda$ <br>\n",
    "<center> $f(y)=\\dfrac{1}{3}e^{-\\dfrac{1}{3}y}$ <br></center>and<center><br> $F(y)=1-e^{-\\dfrac{1}{3}y}$\n",
    "<br></center>"
   ]
  },
  {
   "cell_type": "markdown",
   "metadata": {},
   "source": [
    "\n",
    "Plug into the PDF of $Y_k$<br>\n",
    "$=\\dfrac{5!}{(3-1)!(5-3)!}(1-e^{-\\dfrac{1}{3}y})^{3-1}[1-(1-e^{-\\dfrac{1}{3}y})]^{5-3}(\\dfrac{1}{3}e^{-\\dfrac{1}{3}y})$<br>\n",
    "\n",
    "$=\\dfrac{120}{4}(1-e^{-\\dfrac{1}{3}y})^{2}(-e^{-\\dfrac{1}{3}y})^{2}(\\dfrac{1}{3}e^{-\\dfrac{1}{3}y})$<br>\n",
    "\n",
    "$=10(1-e^{-\\dfrac{1}{3}y})^{2}(e^{-\\dfrac{2}{3}y})(e^{-\\dfrac{1}{3}y})$<br>\n",
    "\n",
    "$=10(1-e^{-\\dfrac{1}{3}y})^{2}(e^{-y})$<br>\n",
    "\n",
    "$\\therefore g_3(y) = 10(1-e^{-\\dfrac{1}{3}y})^{2}(e^{-y})$ for $y>0$"
   ]
  },
  {
   "cell_type": "markdown",
   "metadata": {},
   "source": [
    "## Part b\n",
    "Compute the probablity that $Y_4$ is less than 5."
   ]
  },
  {
   "cell_type": "markdown",
   "metadata": {},
   "source": [
    "Using the methods above, compute the PDF of $Y_4$\n",
    "\n",
    "<br>$=\\dfrac{5!}{(4-1)!(5-4)!}(1-e^{-\\dfrac{1}{3}y})^{4-1}[1-(1-e^{-\\dfrac{1}{3}y})]^{5-4}(\\dfrac{1}{3}e^{-\\dfrac{1}{3}y})$\n",
    "\n",
    "<br>$=20(1-e^{-\\dfrac{1}{3}y})^{3}(-e^{-\\dfrac{1}{3}y})(\\dfrac{1}{3}e^{-\\dfrac{1}{3}y})$<br>\n",
    "\n",
    "<br>$=\\dfrac{20}{3}(1-e^{-\\dfrac{1}{3}y})^{3}(e^{-\\dfrac{2}{3}y})$<br>\n",
    "\n",
    "<br>$\\therefore g_4(y) = \\dfrac{20}{3}(1-e^{-\\dfrac{1}{3}y})^{3}(e^{-\\dfrac{2}{3}y})$ for $y>0$"
   ]
  },
  {
   "cell_type": "markdown",
   "metadata": {},
   "source": [
    "That that the PDF to $Y_4$ is found, the probabilty $P(Y_4 < 5)$ must be found\n",
    "\n",
    "<br>$P(Y_4 < 5)=\\int_{0}^{5} \\dfrac{20}{3}(1-e^{-\\dfrac{1}{3}y})^{3}(e^{-\\dfrac{2}{3}y})dy$\n",
    "\n",
    "<br>$=\\dfrac{20}{3}\\int_{0}^{5}(1-e^{-\\dfrac{1}{3}y})^{3}(e^{-\\dfrac{2}{3}y})dy$\n",
    "\n",
    "<br>$=\\dfrac{20}{3}\\int_{0}^{5}(e^{-\\dfrac{2}{3}y}-3e^{-y}+3e^{-\\dfrac{4}{3}y}-e^{-\\dfrac{5}{3}y})dy$\n",
    "\n",
    "<br>$=\\dfrac{20}{3}(-\\dfrac{3}{2}e^{-\\dfrac{2}{3}y}+3e^{-y}-\\dfrac{9}{4}e^{-\\dfrac{4}{3}y}+\\dfrac{3}{5}e^{-\\dfrac{5}{3}y})|_{0}^{5}$\n",
    "\n",
    "<br>$=\\dfrac{20}{3}[(-\\dfrac{3}{2}e^{-\\dfrac{10}{3}}+3e^{-5}-\\dfrac{9}{4}e^{-\\dfrac{20}{3}}+\\dfrac{3}{5}e^{-\\dfrac{25}{3}})-(-\\dfrac{3}{2}+3-\\dfrac{9}{4}+\\dfrac{3}{5})]$\n",
    "\n",
    "<br>$=\\dfrac{20}{3}(-\\dfrac{3}{2}e^{-\\dfrac{10}{3}}+3e^{-5}-\\dfrac{9}{4}e^{-\\dfrac{20}{3}}+\\dfrac{3}{5}e^{-\\dfrac{25}{3}})+1$\n",
    "\n",
    "<br>$=-10e^{-\\dfrac{10}{3}}+20e^{-5}-15e^{-\\dfrac{20}{3}}+4e^{-\\dfrac{25}{3}}+1=0.7599$\n",
    "\n",
    "<br>$P(Y_4 < 5)=0.7599$"
   ]
  },
  {
   "cell_type": "markdown",
   "metadata": {},
   "source": [
    "## Part c\n",
    "Determine $P(1<Y_1)$"
   ]
  },
  {
   "cell_type": "markdown",
   "metadata": {},
   "source": [
    "Using the methods above, compute the PDF of $Y_1$<br>\n",
    "\n",
    "<br>$g_1(y)=\\dfrac{5!}{(1-1)!(5-1)!}(1-e^{-\\dfrac{1}{3}y})^{1-1}[1-(1-e^{-\\dfrac{1}{3}y})]^{5-1}(\\dfrac{1}{3}e^{-\\dfrac{1}{3}y})$<br>\n",
    "\n",
    "<br>$=5(1-e^{-\\dfrac{1}{3}y})^{0}(-e^{-\\dfrac{1}{3}y})^{4}(\\dfrac{1}{3}e^{-\\dfrac{1}{3}y})$<br>\n",
    "\n",
    "<br>$=\\dfrac{5}{3}(1)(e^{-\\dfrac{4}{3}y})(e^{-\\dfrac{1}{3}y})$<br>\n",
    "\n",
    "<br>$=\\dfrac{5}{3}(e^{-\\dfrac{5}{3}y})$<br>\n",
    "\n",
    "<br>$\\therefore g_1(y) =\\dfrac{5}{3}(e^{-\\dfrac{5}{3}y})$ for $y>0$"
   ]
  },
  {
   "cell_type": "markdown",
   "metadata": {},
   "source": [
    "Now that we have PDF of $Y_1$, determine probability that $Y_1$ comes after 1<br>\n",
    "\n",
    "<br>$P(Y_4 > 1)=\\int_{1}^{+\\infty}\\dfrac{5}{3}(e^{-\\dfrac{5}{3}y})dy$<br>\n",
    "\n",
    "<br>$=\\dfrac{5}{3}\\int_{1}^{+\\infty}e^{-\\dfrac{5}{3}y}dy$<br>\n",
    "\n",
    "<br>$=\\dfrac{5}{3}(-\\dfrac{3}{5})(e^{-\\dfrac{5}{3}y})|_{1}^{+\\infty}$<br>\n",
    "\n",
    "<br>$=-(e^{-\\dfrac{5}{3}y})|_{1}^{+\\infty}$<br>\n",
    "\n",
    "<br>$=-(e^{-\\dfrac{5}{3}y})|_{1}^{+\\infty}$<br>\n",
    "\n",
    "<br>$=-[(0)-(e^{-\\dfrac{5}{3}})]$<br>\n",
    "\n",
    "<br>$=e^{-\\dfrac{5}{3}}$<br>\n",
    "\n",
    "<br>$=0.1889$<br>\n",
    "\n",
    "<br>$P(Y_1 > 1)=0.1889$"
   ]
  },
  {
   "cell_type": "markdown",
   "metadata": {},
   "source": [
    "# Problem 6.3-13\n",
    "First bring in data for problem below"
   ]
  },
  {
   "cell_type": "code",
   "execution_count": 1,
   "metadata": {},
   "outputs": [
    {
     "data": {
      "text/html": [
       "<div>\n",
       "<style scoped>\n",
       "    .dataframe tbody tr th:only-of-type {\n",
       "        vertical-align: middle;\n",
       "    }\n",
       "\n",
       "    .dataframe tbody tr th {\n",
       "        vertical-align: top;\n",
       "    }\n",
       "\n",
       "    .dataframe thead th {\n",
       "        text-align: right;\n",
       "    }\n",
       "</style>\n",
       "<table border=\"1\" class=\"dataframe\">\n",
       "  <thead>\n",
       "    <tr style=\"text-align: right;\">\n",
       "      <th></th>\n",
       "      <th>F_Spider_Length(mm)</th>\n",
       "      <th>M_Spider_Length(mm)</th>\n",
       "    </tr>\n",
       "  </thead>\n",
       "  <tbody>\n",
       "    <tr>\n",
       "      <td>0</td>\n",
       "      <td>11.06</td>\n",
       "      <td>12.26</td>\n",
       "    </tr>\n",
       "    <tr>\n",
       "      <td>1</td>\n",
       "      <td>13.87</td>\n",
       "      <td>11.66</td>\n",
       "    </tr>\n",
       "    <tr>\n",
       "      <td>2</td>\n",
       "      <td>12.93</td>\n",
       "      <td>12.53</td>\n",
       "    </tr>\n",
       "    <tr>\n",
       "      <td>3</td>\n",
       "      <td>15.08</td>\n",
       "      <td>13.00</td>\n",
       "    </tr>\n",
       "    <tr>\n",
       "      <td>4</td>\n",
       "      <td>17.82</td>\n",
       "      <td>11.79</td>\n",
       "    </tr>\n",
       "  </tbody>\n",
       "</table>\n",
       "</div>"
      ],
      "text/plain": [
       "   F_Spider_Length(mm)  M_Spider_Length(mm)\n",
       "0                11.06                12.26\n",
       "1                13.87                11.66\n",
       "2                12.93                12.53\n",
       "3                15.08                13.00\n",
       "4                17.82                11.79"
      ]
     },
     "execution_count": 1,
     "metadata": {},
     "output_type": "execute_result"
    }
   ],
   "source": [
    "import pandas as pd\n",
    "import numpy as np\n",
    "import pylab\n",
    "import scipy.stats as stats\n",
    "Problem6_3_13data = pd.read_csv('E6_3-13.txt',sep='\\t',header=None) \n",
    "Problem6_3_13data.rename(columns={0:\"F_Spider_Length(mm)\",1:\"M_Spider_Length(mm)\"},inplace=True)\n",
    "\n",
    "Problem6_3_13data.head()"
   ]
  },
  {
   "cell_type": "markdown",
   "metadata": {},
   "source": [
    "Here the standard deviation and means must be calculated for Z scores"
   ]
  },
  {
   "cell_type": "code",
   "execution_count": 2,
   "metadata": {},
   "outputs": [
    {
     "name": "stdout",
     "output_type": "stream",
     "text": [
      "2.8278 0.8227 15.0167 11.8889\n",
      "Empty DataFrame\n",
      "Columns: [F_Std_Dev, M_Std_Dev]\n",
      "Index: []\n"
     ]
    }
   ],
   "source": [
    "#Round values below\n",
    "F_STD_DEV = np.std(Problem6_3_13data.loc[:,\"F_Spider_Length(mm)\"].values).round(4)\n",
    "M_STD_DEV = np.std(Problem6_3_13data.loc[:,\"M_Spider_Length(mm)\"].values).round(4)\n",
    "F_Mean = np.mean(Problem6_3_13data.loc[:,\"F_Spider_Length(mm)\"].values).round(4)\n",
    "M_Mean = np.mean(Problem6_3_13data.loc[:,\"M_Spider_Length(mm)\"].values).round(4)\n",
    "\n",
    "print(F_STD_DEV,M_STD_DEV,F_Mean,M_Mean)\n",
    "Data_Z_Score= pd.DataFrame(columns=['F_Std_Dev','M_Std_Dev'])\n",
    "\n",
    "\n",
    "#FIX THE DATAFRAME NOT APPENDING\n",
    "for x in range(len(Problem6_3_13data.index)):\n",
    "    temp_f_z =((Problem6_3_13data.loc[x,\"F_Spider_Length(mm)\"]-F_Mean)/F_STD_DEV).round(4)\n",
    "    temp_m_z = ((Problem6_3_13data.loc[x,\"M_Spider_Length(mm)\"]-M_Mean)/M_STD_DEV).round(4)\n",
    "    Data_Z_Score.append({Data_Z_Score.columns[0]:[temp_f_z],\n",
    "                         Data_Z_Score.columns[1]:[temp_m_z]},\n",
    "                         ignore_index=True\n",
    "                       )\n",
    "print(Data_Z_Score)\n",
    "\n",
    "#Still debugging, cannot get data to append correctly.."
   ]
  },
  {
   "cell_type": "markdown",
   "metadata": {},
   "source": [
    "# Problem 6.4-3\n",
    "A random sample $X_1,X_2,...,X_n$ of size $n$ is taken from a Poisson distribution with a mean of $\\lambda,0<\\lambda<\\infty$"
   ]
  },
  {
   "cell_type": "markdown",
   "metadata": {},
   "source": [
    "## Part a\n",
    "Show that the maximum likelihood estimator for $\\lambda$ is $\\hat{\\lambda}=\\bar{X}$"
   ]
  },
  {
   "cell_type": "markdown",
   "metadata": {},
   "source": [
    "Poisson PDF is defined as<br>\n",
    "\n",
    "<br>$f(y)=P(X=y)=\\dfrac{\\lambda^{y}e^{-\\lambda}}{y!}$<br>\n",
    "\n",
    "<br>Letting $\\theta=\\lambda$<br>\n",
    "\n",
    "<br>Likelihood function is<br>\n",
    "\n",
    "<br>$L(\\theta)=\\prod_{i=1}^{n}f(x_i;\\theta)$<br>\n",
    "\n",
    "<br>$=\\prod_{i=1}^{n}\\dfrac{\\theta^{x_i}e^{-\\theta}}{x_i!}$<br>\n",
    "\n",
    "<br>$=\\dfrac{\\theta^{\\sum_{i=1}^{n}x_i}e^{-n\\theta}}{\\prod_{i=1}^{n}x_i!}$<br>\n",
    "\n",
    "<br>Take the log for loglikelihood,<br>\n",
    "\n",
    "<br>$lnL(\\theta)=ln(\\dfrac{\\theta^{\\sum_{i=1}^{n}x_i}e^{-n\\theta}}{\\prod_{i=1}^{n}x_i!})$<br>\n",
    "\n",
    "<br>$=\\sum_{i=1}^{n}x_i ln\\theta-n\\theta-ln(\\prod_{i=1}^{n}x_i!)$"
   ]
  },
  {
   "cell_type": "markdown",
   "metadata": {},
   "source": [
    "Take derivative<br>\n",
    "\n",
    "<br>$\\dfrac{d}{d\\theta}lnL(\\theta)=\\dfrac{d}{d\\theta}(\\sum_{i=1}^{n}x_i ln\\theta-n\\theta-ln(\\prod_{i=1}^{n}x_i!))$<br>\n",
    "\n",
    "<br>$=\\dfrac{\\sum_{i=1}^{n}x_i}{\\theta}-n$"
   ]
  },
  {
   "cell_type": "markdown",
   "metadata": {},
   "source": [
    "Find root by setting to $0$<br>\n",
    "\n",
    "<br>$0=\\dfrac{\\sum_{i=1}^{n}x_i}{\\theta}-n$<br>\n",
    "\n",
    "<br>$n=\\dfrac{\\sum_{i=1}^{n}x_i}{\\theta}$<br>\n",
    "\n",
    "<br>$n\\theta=\\sum_{i=1}^{n}x_i$<br>\n",
    "\n",
    "<br>$\\bar{x}=\\sum_{i=1}^{n}x_i$<br>\n",
    "\n",
    "<br>Thus, $\\hat{\\lambda}=\\bar{x}$"
   ]
  },
  {
   "cell_type": "markdown",
   "metadata": {},
   "source": [
    "## Part b\n",
    "Let $X$ equal the number of flaws per 100 feet of a used computer tape.  Assume that $X$ has a Poisson distribution with a mean of $\\lambda$.  If 40 pobservations of $X$ yielded 5 zeros, 7 ones, 12 twos, 9 threes, 5 fours, 1 five, and 1 six, find the maximum likelihood estimate of $\\lambda$."
   ]
  },
  {
   "cell_type": "markdown",
   "metadata": {},
   "source": [
    "Since there are 40 observations $n=40$<br>\n",
    "\n",
    "<br>$\\hat{\\lambda}=\\bar{x}$<br>\n",
    "\n",
    "<br>$=\\dfrac{(0)(5)+(1)(7)+(2)(12)+(3)(9)+(4)(5)+(5)(1)+(6)(1)}{40}$<br>\n",
    "\n",
    "<br>=$\\dfrac{89}{40}$<br>\n",
    "\n",
    "<br>$=2.225$<br>\n",
    "\n",
    "<br>$\\hat{\\lambda}=2.225$"
   ]
  },
  {
   "cell_type": "markdown",
   "metadata": {},
   "source": [
    "# Problem 6.4-5\n",
    "Let $X_1,X_2,...,X_n$ be a random sample from distributions with the given probability density functions.  In each case, find the maximum likelihood estimator $\\hat{\\theta}$"
   ]
  },
  {
   "cell_type": "markdown",
   "metadata": {},
   "source": [
    "## Part a\n",
    "$f(x;\\theta)=(\\dfrac{1}{\\theta^2})xe^{-\\dfrac{x}{\\theta}}$, such that $0<x<\\infty, 0<\\theta<\\infty$<br>\n",
    "\n",
    "<br>The likelihood function is<br>\n",
    "\n",
    "<br>$L(\\theta)=\\prod_{i=1}^{n}f(x_i;\\theta)$<br>\n",
    "\n",
    "<br>$=\\prod_{i=1}^n\\dfrac{1}{\\theta^2}x_ie^{\\dfrac{-x_i}{\\theta}}$<br>\n",
    "\n",
    "<br>$=\\dfrac{1}{\\theta^{2n}}e^{\\sum_{i=1}^{n}\\dfrac{-x_i}{\\theta}}{\\prod_{i=1}^nx_i}$<br>\n",
    "\n",
    "<br>Take the loglikelihood,<br>\n",
    "\n",
    "<br>$lnL{\\theta}=ln(\\dfrac{1}{\\theta^{2n}}e^{\\sum_{i=1}^{n}\\dfrac{-x_i}{\\theta}}{\\prod_{i=1}^nx_i})$<br>\n",
    "\n",
    "<br>$=-2nln\\theta-\\dfrac{1}{\\theta}\\sum_{i=1}^{n}x_i+\\sum_{i=1}^{n}lnx_i$<br>\n",
    "\n",
    "<br>Take the derivative<br>\n",
    "\n",
    "<br>$\\dfrac{d}{d\\theta}lnL({\\theta})=\\dfrac{-2n}{\\theta}+\\dfrac{1}{\\theta^2}\\sum_{i=1}^{n}x_i$"
   ]
  },
  {
   "cell_type": "markdown",
   "metadata": {},
   "source": [
    "Set equal to $0$<br>\n",
    "\n",
    "<br>$0=\\dfrac{-2n}{\\theta}+\\dfrac{1}{\\theta^2}\\sum_{i=1}^{n}x_i$<br>\n",
    "\n",
    "<br>$0=-2n\\theta+\\sum_{i=1}^{n}x_i$<br>\n",
    "\n",
    "<br>$2n\\theta=\\sum_{i=1}^{n}x_i$<br>\n",
    "\n",
    "<br>$\\theta=\\dfrac{1}{2}\\dfrac{\\sum_{i=1}^{n}x_i}{n}$<br>\n",
    "\n",
    "<br>$\\hat{\\theta}=\\frac{{\\bar{x}}}{2}$"
   ]
  },
  {
   "cell_type": "markdown",
   "metadata": {},
   "source": [
    "## Part b\n",
    "$f(x;\\theta)=\\dfrac{1}{2\\theta^3}x^2e^{-\\dfrac{x}{\\theta}}$, such that $0<x<\\infty, 0<\\theta<\\infty$<br>\n",
    "\n",
    "<br>Plug into likelihood function<br>\n",
    "\n",
    "<br>$L(\\theta)=\\prod_{i=1}^{n}\\dfrac{1}{2\\theta^3}x^2e^{-\\dfrac{x}{\\theta}}$<br>\n",
    "\n",
    "<br>$=\\dfrac{1}{2^n\\theta^{3n}}(\\prod_{i=1}^{n}x^2_i)e^{-\\sum^{n}_{i=1}\\dfrac{x_i}{\\theta}}$<br>\n",
    "\n",
    "<br>Take the loglikelihood<br>\n",
    "\n",
    "<br>$lnL(\\theta)=ln(\\dfrac{1}{2^n\\theta^{3n}})+ln(\\prod^n_{i=1}x^2_i)+ln(e^{\\sum_{i=1}^{n}\\dfrac{x_i}{\\theta}})$<br>\n",
    "\n",
    "<br>$=-nln2-3nln\\theta+\\sum_{i=1}^{n}lnx^2_i-\\dfrac{1}{\\theta}\\sum^n_{i=1}x_i$<br>\n",
    "\n",
    "<br>Take derivative,<br>\n",
    "\n",
    "<br>$\\dfrac{d}{d\\theta}lnL{\\theta}=\\dfrac{-3n}{\\theta}+\\dfrac{1}{\\theta^2}\\sum^n_{i=1}x_i$<br>\n",
    "\n",
    "<br>Set equal to $0$<br>\n",
    "\n",
    "<br>$0=\\dfrac{-3n}{\\theta}+\\dfrac{1}{\\theta^2}\\sum^n_{i=1}x_i$<br>\n",
    "\n",
    "<br>$3n\\theta=\\sum^n_{i=1}x_i$<br>\n",
    "\n",
    "<br>Therefore,<br>\n",
    "\n",
    "<br>$\\hat{\\theta}=\\dfrac{1}{3}\\bar{X}$"
   ]
  },
  {
   "cell_type": "markdown",
   "metadata": {},
   "source": [
    "# Problem 6.4-11\n",
    "Let $X_1,X_2,...,X_n$ be a random sample from a distribution having finite variance $\\sigma^2$.<br>\n",
    "\n",
    "<br>Show that<br>\n",
    "\n",
    "<br>$S^2=\\sum^n_{i=1}\\dfrac{(X_i-\\bar{X})^2}{n-1}$<br>\n",
    "\n",
    "<br>is an unbiased estimator of $\\sigma^2$"
   ]
  },
  {
   "cell_type": "markdown",
   "metadata": {},
   "source": [
    "Pull out common factors<br>\n",
    "\n",
    "<br>$=\\dfrac{1}{n-1}\\sum_{i=1}^n(X_i-\\bar{X})^2$<br>\n",
    "\n",
    "<br>$=\\dfrac{1}{n-1}\\sum_{i=1}^n(X_i^2-n\\bar{X}^2)$"
   ]
  },
  {
   "cell_type": "markdown",
   "metadata": {},
   "source": [
    "$E(S^2)=\\dfrac{1}{n-1}E(\\sum^n_{i=1}(X_i^2-n\\bar{X}^2))$<br>\n",
    "\n",
    "<br>$=\\dfrac{1}{n-1}(E(\\sum^n_{i=1}X_i^2)-\\dfrac{1}{n}E((\\sum^n_{i=1}X_i)^2))$<br>\n",
    "\n",
    "<br>Therefore,<br>\n",
    "\n",
    "<br>$=\\dfrac{1}{n-1}[n\\sigma^2+n\\mu^2-\\dfrac{1}{n}(n\\sigma^2+(n\\mu)^2)]$<br>\n",
    "\n",
    "<br>$=\\dfrac{1}{n-1}(n-1)\\sigma^2=\\sigma^2$<br>\n",
    "\n",
    "<br>And therefore, $S^2$ is an unbiased estimator of $\\sigma^2$"
   ]
  },
  {
   "cell_type": "markdown",
   "metadata": {},
   "source": [
    "# Problem 6.4-12\n",
    "Let $X_1,X_2,...,X_n$ be a random sample from $b(1,p)$, or $n$ Bernoulli trials. Thus,<br>\n",
    "\n",
    "<br>$Y=\\sum_{i=1}^nX_i$ is $b(n,p)$"
   ]
  },
  {
   "cell_type": "markdown",
   "metadata": {},
   "source": [
    "## Part a\n",
    "Show that $\\bar{X}=\\dfrac{Y}{n}$ is an unbiased esimator of $p$.<br>\n",
    "\n",
    "<br>$E(\\bar{X})=E(\\dfrac{Y}{n})$<br>\n",
    "\n",
    "<br>$=\\dfrac{1}{n}E{Y}$<br>\n",
    "\n",
    "<br>Since $E(Y)=np$<br>\n",
    "\n",
    "<br>$=\\dfrac{1}{n}(np)$<br>\n",
    "\n",
    "<br>$=p$<br>\n",
    "\n",
    "<br>Therefore, $\\bar{X}$ is an unbiased esimator of $p$."
   ]
  },
  {
   "cell_type": "markdown",
   "metadata": {},
   "source": [
    "## Part b\n",
    "Show that $Var(\\bar{X})=\\dfrac{p(1-p)}{n}$<br>\n",
    "\n",
    "<br>$Var(\\bar{X})=Var(\\dfrac{Y}{n})$<br>\n",
    "\n",
    "<br>$=\\dfrac{1}{n^2}Var(Y)$<br>\n",
    "\n",
    "<br>$=\\dfrac{1}{n^2}npp(1-p)$<br>\n",
    "\n",
    "<br>$=\\dfrac{p(1-p)}{n}$"
   ]
  },
  {
   "cell_type": "markdown",
   "metadata": {},
   "source": [
    "## Part c\n",
    "Show that $E[\\dfrac{\\bar{X}(1-\\bar{X})}{n}]=(n-1)[\\dfrac{p(1-p)}{n^2}]$<br>\n",
    "\n",
    "<br>$E[\\dfrac{\\bar{X}(1-\\bar{X})}{n}]=\\dfrac{1}{n}E(\\bar{X}(1-\\bar{X}))$<br>\n",
    "\n",
    "<br>$=\\dfrac{1}{n}[E(\\bar{X})-E(\\bar{X}^2)]$<br>\n",
    "\n",
    "<br>$=\\dfrac{1}{n}[p-\\dfrac{p(1-p)}{n}-p^2]$<br>\n",
    "\n",
    "<br>$=\\dfrac{np(1-p)-p(1-p)}{n^2}$<br>\n",
    "\n",
    "<br>$=\\dfrac{(n-1)p(1-p)}{n^2}$"
   ]
  },
  {
   "cell_type": "markdown",
   "metadata": {},
   "source": []
  }
 ],
 "metadata": {
  "kernelspec": {
   "display_name": "Python 3",
   "language": "python",
   "name": "python3"
  },
  "language_info": {
   "codemirror_mode": {
    "name": "ipython",
    "version": 3
   },
   "file_extension": ".py",
   "mimetype": "text/x-python",
   "name": "python",
   "nbconvert_exporter": "python",
   "pygments_lexer": "ipython3",
   "version": "3.7.3"
  }
 },
 "nbformat": 4,
 "nbformat_minor": 2
}
