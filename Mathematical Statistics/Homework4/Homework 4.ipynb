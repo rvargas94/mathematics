{
 "cells": [
  {
   "cell_type": "code",
   "execution_count": 1,
   "metadata": {},
   "outputs": [],
   "source": [
    "import numpy as np\n",
    "import pandas as pd\n",
    "import scipy.stats as st"
   ]
  },
  {
   "cell_type": "markdown",
   "metadata": {},
   "source": [
    "# Problem 7.2-1\n",
    "The length of life of brand $X$ light bulbs is assumed to be $N(\\mu_x,784)$.  The length of life of brand $Y$ light bulbs is assumed to be $N(\\mu_y, 627)$ and independent of $X$.  If a random sample of $n=56$ brand $X$ light bulbs yielded a mean of $\\bar{x}=937.4$ hours and a random sample of size $m=57$ brand $Y$ light bulbs yielded a mean of $\\bar{y}=988.9$ hours, find a 90% confidence interval for $\\mu_x-\\mu_y$."
   ]
  },
  {
   "cell_type": "code",
   "execution_count": 2,
   "metadata": {},
   "outputs": [
    {
     "name": "stdout",
     "output_type": "stream",
     "text": [
      "The endpoints are [-59.725, -43.275]\n"
     ]
    }
   ],
   "source": [
    "#x_1 is x bar one, x_2 is x bar two, z is the z-score\n",
    "#sigma_1 is variance of sample one, sigma_2 is variance of sample two\n",
    "#n is the amount of values in sample one, and m for sample two\n",
    "def conf_end_points(x_1,x_2,z,sigma_1,sigma_2,n,m):\n",
    "    solution = [0,0]\n",
    "    solution[0]=(x_1-x_2)-z*(np.sqrt(sigma_1/n+sigma_2/m))\n",
    "    solution[1]=(x_1-x_2)+z*(np.sqrt(sigma_1/n+sigma_2/m))\n",
    "    return solution\n",
    "\n",
    "x_var = 784\n",
    "x_bar = 937.4\n",
    "x_n = 56\n",
    "\n",
    "y_var = 627\n",
    "y_bar = 988.9\n",
    "y_n = 57\n",
    "conf_interval = 0.9\n",
    "sigma = np.round((1-conf_interval),1)/2 #need to round\n",
    "z_value_right = (st.norm.ppf((1-sigma))).round(3)\n",
    "\n",
    "answer = conf_end_points(x_bar,y_bar,z_value_right,x_var,y_var,x_n,y_n)\n",
    "\n",
    "print(\"The endpoints are\",answer)"
   ]
  },
  {
   "cell_type": "markdown",
   "metadata": {},
   "source": [
    "# Problem 7.2-2\n",
    "Let $X_1,X_2,..X_5$ be a random sample of SAT mathematics scores, assumed to be $N(\\mu_x,\\sigma^2)$ and let $Y_1,Y_2,..,Y_8$ be an independent random sample of SAT verbal scores, assumed to be $N(\\mu_y,\\sigma^2)$.  If the following data are observed, find a 90% confidence interval for $\\mu_x-\\mu_y$."
   ]
  },
  {
   "cell_type": "code",
   "execution_count": 3,
   "metadata": {},
   "outputs": [
    {
     "name": "stdout",
     "output_type": "stream",
     "text": [
      "       X    Y\n",
      "0  644.0  623\n",
      "1  493.0  472\n",
      "2  532.0  492\n",
      "3  462.0  661\n",
      "4  565.0  540\n",
      "5    NaN  502\n",
      "6    NaN  549\n",
      "7    NaN  518\n"
     ]
    }
   ],
   "source": [
    "Problem7_2_4data = pd.read_csv('E7_2-02.txt',sep=\"\\t\",header=None)\n",
    "Problem7_2_4data.rename(columns={0:\"X\",1:\"Y\"},inplace=True)\n",
    "print(Problem7_2_4data)"
   ]
  },
  {
   "cell_type": "code",
   "execution_count": 4,
   "metadata": {},
   "outputs": [
    {
     "name": "stdout",
     "output_type": "stream",
     "text": [
      "The interval of solution is [-74.517, 63.667]\n"
     ]
    }
   ],
   "source": [
    "x_bar = Problem7_2_4data['X'].mean()\n",
    "\n",
    "#Need to exclude NaN values\n",
    "x_n = 0\n",
    "for a in Problem7_2_4data['X']:\n",
    "    if ~np.isnan(a):\n",
    "        x_n += 1\n",
    "\n",
    "y_bar = Problem7_2_4data['Y'].mean()\n",
    "y_n = len(Problem7_2_4data['Y'])\n",
    "\n",
    "#Getting standard deviations\n",
    "temp = 0\n",
    "for a in Problem7_2_4data['Y']:\n",
    "    temp += np.square(a-y_bar)\n",
    "std_y = np.sqrt(temp/(y_n-1)).round(4)\n",
    "\n",
    "temp = 0\n",
    "for a in Problem7_2_4data['X']:\n",
    "    if ~np.isnan(a):\n",
    "        temp += np.square(a-x_bar)\n",
    "std_x = np.sqrt(temp/(x_n-1)).round(4)\n",
    "\n",
    "#Getting t-value of 11 degrees of freedom\n",
    "deg_freedom = x_n + y_n - 2\n",
    "alpha = np.round(((1-0.9)/2),2)\n",
    "t_value_right = st.t.ppf(1-alpha,deg_freedom).round(3)\n",
    "\n",
    "#function to find the interval\n",
    "def conf_end_points2(x_1,x_2,t,sigma_1,sigma_2,n,m):\n",
    "    solution = [0,0]\n",
    "    common_sd = np.sqrt(((n-1)*np.square(sigma_1)+(m-1)*np.square(sigma_2))/(n+m-2))\n",
    "    solution[0]=((x_1-x_2)-t*common_sd*np.sqrt(1/n+1/m)).round(3)\n",
    "    solution[1]=((x_1-x_2)+t*common_sd*np.sqrt(1/n+1/m)).round(3)\n",
    "    return solution\n",
    "\n",
    "answer = conf_end_points2(x_bar,y_bar,t_value_right,std_x,std_y,x_n,y_n)\n",
    "print(\"The interval of solution is\",answer)"
   ]
  },
  {
   "cell_type": "markdown",
   "metadata": {},
   "source": [
    "# Problem 7.2-3\n",
    "Independent random samples of the heights of adult males living in two countries yielded the following results; $n=12,\\bar{x}=65.7$ inches, $s_x=4$ inches and $m=15, \\bar{y}=68.2$ inches, $s_y=3$ inches.  Find an approximate 98% confidence interval for the difference $\\mu_x-\\mu_y$ of the means of the populations of heights.  Assume that $\\sigma^2_x=\\sigma^2_y$"
   ]
  },
  {
   "cell_type": "code",
   "execution_count": 5,
   "metadata": {},
   "outputs": [
    {
     "name": "stdout",
     "output_type": "stream",
     "text": [
      "The end points for the confidence interval are [-5.845, 0.845]\n"
     ]
    }
   ],
   "source": [
    "ci = .98 #conf interveral\n",
    "x_bar = 65.7 #mean of X\n",
    "n = 12 #number of elements for X\n",
    "x_std = 4 #standard deviation of x\n",
    "\n",
    "y_bar = 68.2 #mean of Y\n",
    "m = 15 #number of elements for Y \n",
    "y_std = 3 #standard deviation of y\n",
    "\n",
    "df = m + n - 2 #degrees of freedom\n",
    "alpha = 1-(1-.98)/2\n",
    "\n",
    "t_value_right = st.t.ppf(alpha,df).round(3) #t-value\n",
    "\n",
    "answer = conf_end_points2(x_bar,y_bar,t_value_right,x_std,y_std,n,m)\n",
    "\n",
    "print(\"The end points for the confidence interval are\",answer)"
   ]
  },
  {
   "cell_type": "markdown",
   "metadata": {},
   "source": [
    "# Problem 7.3-1\n",
    "A machine shop manufactures toggle levers.  A lever is flawed if a standard nut cannot be screwed onto the threads.  Let $p$ equal the proportion of flawed toggle levers that the shop manufactures.  If there were 24 flawed levers out of a sample of 642 that were selected randomly from the production line,"
   ]
  },
  {
   "cell_type": "markdown",
   "metadata": {},
   "source": [
    "## Part a\n",
    "Give a point estimate of $p$."
   ]
  },
  {
   "cell_type": "markdown",
   "metadata": {},
   "source": [
    "$\\hat{p} = \\dfrac{y}{n}=\\dfrac{24}{642}\\approx 3.74\\%$"
   ]
  },
  {
   "cell_type": "markdown",
   "metadata": {},
   "source": [
    "## Part b\n",
    "Using equation 7.3-2 to find an approximate 95% confidence interval for $p$.<br>\n",
    "\n",
    "Equation 7.3-2: $\\dfrac{y}{n}\\pm z_{\\alpha/2}\\sqrt{\\dfrac{(y/n)(1-y/n)}{n}}$"
   ]
  },
  {
   "cell_type": "markdown",
   "metadata": {},
   "source": [
    "$\\alpha = 0.05$ thus  $z_{\\alpha/2}=z_{0.025}$<br>\n",
    "\n",
    "\n",
    "$0.0374\\pm1.96\\times\\sqrt{\\dfrac{(0.0374)(1-0.0374)}{642}}$<br>\n",
    "\n",
    "\n",
    "The two solutions are $(0.0227,0.0521)$"
   ]
  },
  {
   "cell_type": "markdown",
   "metadata": {},
   "source": [
    "## Part c\n",
    "Use equation 7.3-4 to find an approximate 90% confidence interval for $p$.<br>\n",
    "\n",
    "\n",
    "Equation 7.3-4:$\\dfrac{\\hat{p}+z^2_{\\alpha/2}/(2n)\\pm z_{\\alpha/2}\\sqrt{\\dfrac{\\hat{p}(1-\\hat{p})}{n}+\\dfrac{z^2_{\\alpha/2}}{4n^2}}}{1+\\dfrac{z^2_{\\alpha/2}}{n}}$"
   ]
  },
  {
   "cell_type": "markdown",
   "metadata": {},
   "source": [
    "$\\dfrac{0.0374+1.96^2/(2\\times642)\\pm1.96\\sqrt{\\dfrac{0.0374(1-0.0374)}{642}+\\dfrac{1.96^2}{4\\times642^2}}}{1+\\dfrac{1.96^2}{642}}$<br>\n",
    "\n",
    "\n",
    "The two solutions are $(0.0253,0.055)$"
   ]
  },
  {
   "cell_type": "markdown",
   "metadata": {},
   "source": [
    "## Part d\n",
    "Use equation 7.3-5 to find an approximate 90% confidence interval for $p$.<br>\n",
    "\n",
    "\n",
    "Equation 7.3-5: $\\tilde{p}\\pm z_{\\alpha/2}\\sqrt{\\dfrac{\\tilde{p}(1-\\tilde{p})}{n+4}}$"
   ]
  },
  {
   "cell_type": "markdown",
   "metadata": {},
   "source": [
    "$\\tilde{p}=\\dfrac{y+2}{n+4}=0.0402$<br>\n",
    "\n",
    "\n",
    "$z_{\\alpha/2}=1.96$<br>\n",
    "\n",
    "\n",
    "$0.0402\\pm 1.96\\sqrt{\\dfrac{0.0402(1-0.0402)}{642+4}}$<br>\n",
    "\n",
    "\n",
    "The two  solutions are $(0.0251,0.055)$.\n",
    "\n"
   ]
  },
  {
   "cell_type": "markdown",
   "metadata": {},
   "source": [
    "## Part e\n",
    "Find a one-sided 90% confidence interval for $p$ that provides a lower bound for $p$."
   ]
  },
  {
   "cell_type": "markdown",
   "metadata": {},
   "source": [
    "$\\alpha = 0.05$, therefore $z_\\alpha=1.645$<br>\n",
    "\n",
    "\n",
    "Upper bound of confidence interval is <br>\n",
    "\n",
    "\n",
    "$0.0374+1.645\\sqrt{\\dfrac{0.0374(1-0.0374}{642}}$<br>\n",
    "\n",
    "\n",
    "Therefore, the solution is (0,0.0497)"
   ]
  },
  {
   "cell_type": "markdown",
   "metadata": {},
   "source": [
    "# Problem 7.3-2\n",
    "Let $p$ equal the proportion of letters mailed in the Netherlands that are delivered the next day.  Suppose that $y = 142$ out of a random sample of $n = 200$ letters were delivered the day after they were mailed."
   ]
  },
  {
   "cell_type": "markdown",
   "metadata": {},
   "source": [
    "## Part a \n",
    "Give a point estimate of $p$."
   ]
  },
  {
   "cell_type": "markdown",
   "metadata": {},
   "source": [
    "$\\hat{p} = \\dfrac{y}{n}=\\dfrac{142}{200}= 71\\%$"
   ]
  },
  {
   "cell_type": "markdown",
   "metadata": {},
   "source": [
    "## Part b\n",
    "Use equation 7.3-2 to find an approximate 90% confidence interval for $p$.<br>\n",
    "\n",
    "\n",
    "Equation 7.3-2: $\\dfrac{y}{n}\\pm z_{\\alpha/2}\\sqrt{\\dfrac{(y/n)(1-y/n)}{n}}$"
   ]
  },
  {
   "cell_type": "markdown",
   "metadata": {},
   "source": [
    "$\\alpha = 0.10$ thus  $z_{\\alpha/2}=z_{0.05}=1.645$<br>\n",
    "\n",
    "\n",
    "$0.71\\pm1.645\\times\\sqrt{\\dfrac{(0.71)(1-0.71)}{200}}$<br>\n",
    "\n",
    "\n",
    "The two solutions are $(0.6572,0.7628)$\n"
   ]
  },
  {
   "cell_type": "markdown",
   "metadata": {},
   "source": [
    "## Part c\n",
    "Use equation 7.3-4 to find an approximate 90% confidence interval for $p$.<br>\n",
    "\n",
    "\n",
    "Equation 7.3-4:$\\dfrac{\\hat{p}+z^2_{\\alpha/2}/(2n)\\pm z_{\\alpha/2}\\sqrt{\\dfrac{\\hat{p}(1-\\hat{p})}{n}+\\dfrac{z^2_{\\alpha/2}}{4n^2}}}{1+\\dfrac{z^2_{\\alpha/2}}{n}}$"
   ]
  },
  {
   "cell_type": "markdown",
   "metadata": {},
   "source": [
    "$\\dfrac{0.71+1.645^2/(2\\times200)\\pm1.645\\sqrt{\\dfrac{0.71(1-0.71)}{200}+\\dfrac{1.645^2}{4\\times200^2}}}{1+\\dfrac{1.645^2}{200}}$<br>\n",
    "\n",
    "\n",
    "The two solutions are $(0.6545,0.7599)$"
   ]
  },
  {
   "cell_type": "markdown",
   "metadata": {},
   "source": [
    "## Part d\n",
    "Use equation 7.3-5 to find an approximate 90% confidence interval for $p$.<br>\n",
    "\n",
    "\n",
    "Equation 7.3-5: $\\tilde{p}\\pm z_{\\alpha/2}\\sqrt{\\dfrac{\\tilde{p}(1-\\tilde{p})}{n+4}}$"
   ]
  },
  {
   "cell_type": "markdown",
   "metadata": {},
   "source": [
    "$\\tilde{p}=\\dfrac{y+2}{n+4}=0.7059$<br>\n",
    "\n",
    "\n",
    "$0.7059\\pm 1.645\\sqrt{\\dfrac{0.7059(1-0.7059)}{200+4}}$<br>\n",
    "\n",
    "\n",
    "The two  solutions are $(0.6534,0.7584)$."
   ]
  },
  {
   "cell_type": "markdown",
   "metadata": {},
   "source": [
    "## Part e\n",
    "Find a one-sided 90% confidence interval for $p$ that provides a lower bound for $p$."
   ]
  },
  {
   "cell_type": "markdown",
   "metadata": {},
   "source": [
    "$\\alpha = 0.10$, therefore $z_\\alpha=1.28$<br>\n",
    "\n",
    "\n",
    "Upper bound of confidence interval is <br>\n",
    "\n",
    "\n",
    "$0.71+1.28\\sqrt{\\dfrac{0.71(1-0.71}{200}}$<br>\n",
    "\n",
    "\n",
    "Therefore, the solution is (0.6689,1)"
   ]
  },
  {
   "cell_type": "markdown",
   "metadata": {},
   "source": [
    "# Problem 7.3-8\n",
    "A proportion, $p$, that many public opinion polls estimate is the number of Americans who would say yes to a certain question.  In one such random sample of 1022 adults, 388 said yes."
   ]
  },
  {
   "cell_type": "markdown",
   "metadata": {},
   "source": [
    "## Part a \n",
    "On the basis of the given data, find a point estimate of $p$."
   ]
  },
  {
   "cell_type": "markdown",
   "metadata": {},
   "source": [
    "$\\hat{p} = \\dfrac{y}{n}=\\dfrac{388}{1022}\\approx 37.96\\%$"
   ]
  },
  {
   "cell_type": "markdown",
   "metadata": {},
   "source": [
    "## Part b\n",
    "Find an approximate 90% confidence interval for $p$.<br>\n",
    "\n",
    "\n",
    "Equation 7.3-2: $\\dfrac{y}{n}\\pm z_{\\alpha/2}\\sqrt{\\dfrac{(y/n)(1-y/n)}{n}}$"
   ]
  },
  {
   "cell_type": "markdown",
   "metadata": {},
   "source": [
    "$\\alpha = 0.10$ thus  $z_{\\alpha/2}=z_{0.05}=1.645$<br>\n",
    "\n",
    "\n",
    "$0.3796\\pm1.645\\times\\sqrt{\\dfrac{(0.3796)(1-0.3796)}{1022}}$<br>\n",
    "\n",
    "\n",
    "The two solutions are $(0.3546,0.4046)$\n"
   ]
  },
  {
   "cell_type": "markdown",
   "metadata": {},
   "source": [
    "# Problem 7.4-3\n",
    "A company packages powdered soap in \"6-pound\" boxes.  The sample mean and standard deviation of the soap in tese boxes are currently 6.09 pounds and 0.02 pound, respectively.  If the mean fill can be lowered by 0.01 pound, $14,000 would be saved per year.  Adjustments were made in the filling equipment, but it can be assumed that the standard deviation remains unchanged."
   ]
  },
  {
   "cell_type": "markdown",
   "metadata": {},
   "source": [
    "## Part a\n",
    "How large a sample is needed so that the maximum error of the estimate of the new $\\mu$ is $\\varepsilon $ = 0.001 with 90% confidence?"
   ]
  },
  {
   "cell_type": "markdown",
   "metadata": {},
   "source": [
    "$\\bar{x} = 6.09$ and $s_x = 0.02$<br>\n",
    "\n",
    "\n",
    "$\\alpha = .10$ therefore, $z_{\\alpha/2}=z_{0.10/2}=1.645$<br>\n",
    "\n",
    "\n",
    "Formula for sample size: $n=(\\dfrac{z_{\\alpha/2}\\sigma}{\\varepsilon})^2$<br>\n",
    "\n",
    "\n",
    "$n =(\\dfrac{1.645\\times 0.02}{0.001})^2 = 1083$"
   ]
  },
  {
   "cell_type": "markdown",
   "metadata": {},
   "source": [
    "## Part b\n",
    "A random sample of size $n=1219$ yielded $\\bar{x}=6.048$ and $s=0.022$. Calculate a 90% confidence interval for $\\mu$."
   ]
  },
  {
   "cell_type": "markdown",
   "metadata": {},
   "source": [
    "The confidence interval is <br>\n",
    "\n",
    "\n",
    "$\\bar{x}\\pm z_{\\alpha/2}\\dfrac{\\sigma}{\\sqrt{n}}$<br>\n",
    "\n",
    "\n",
    "$6.048\\pm 1.645\\dfrac{0.022}{\\sqrt{1219}}$<br>\n",
    "\n",
    "\n",
    "Therefore the solution is $(6.047,6.049)$"
   ]
  },
  {
   "cell_type": "markdown",
   "metadata": {},
   "source": [
    "## Part c\n",
    "Estimate the savings per year with these new adjustments."
   ]
  },
  {
   "cell_type": "markdown",
   "metadata": {},
   "source": [
    "Difference between the means is 6.09 - 6.048 = 0.042<br>\n",
    "\n",
    "\n",
    "$\\dfrac{0.042}{.01}=4.2$<br>\n",
    "\n",
    "\n",
    "Because $14,000 would be saved per year by lowering 0.01 pounds, then <br>\n",
    "\n",
    "\n",
    "$4.2 \\times \\$14,000 = \\$58,800 $ would be saved"
   ]
  },
  {
   "cell_type": "markdown",
   "metadata": {},
   "source": [
    "## Part d\n",
    "Estimate the proportion of boxes that will now weight less than 6 pounds"
   ]
  },
  {
   "cell_type": "markdown",
   "metadata": {},
   "source": [
    "$z=\\dfrac{x-\\mu}{\\sigma}=\\dfrac{6-6.048}{0.022}=-2.18$<br>\n",
    "\n",
    "\n",
    "$P(X<6) = P(Z<-2.18) = 1-P(Z<2.18)$<br>\n",
    "\n",
    "\n",
    "$=1-0.9854=0.0146$"
   ]
  },
  {
   "cell_type": "markdown",
   "metadata": {},
   "source": [
    "# Problem 7.4-4\n",
    "Measurements of the length in centimeters of $n=29$ fish yielded an average length of $\\bar{x}=176.82$ and $s^2=34.9$.  Determine the size of a new sample so that $\\bar{x}\\pm 0.5$ is an approximate 95% confidence interval for $\\mu$."
   ]
  },
  {
   "cell_type": "markdown",
   "metadata": {},
   "source": [
    "Formula for sample size: $n=(\\dfrac{z_{\\alpha/2}\\sigma}{\\varepsilon})^2$<br>\n",
    "\n",
    "\n",
    "$\\alpha = .05$ therefore, $z_{\\alpha/2}=1.96$<br>\n",
    "\n",
    "\n",
    "$n =\\lceil(\\dfrac{1.96\\times \\sqrt{34.9}}{0.5})^2\\rceil=537$"
   ]
  },
  {
   "cell_type": "markdown",
   "metadata": {},
   "source": [
    "# Problem 7.4-10\n",
    "A seed distributor claims that 80% of its beet seeds will germinate.  How many seeds must be tested for germination in order to estimate $p$, the true proportion that will germinate, so that the maximum error of the estimate is $\\varepsilon=0.03$ with 90% confidence?"
   ]
  },
  {
   "cell_type": "markdown",
   "metadata": {},
   "source": [
    "Formula for sample size: $n=\\dfrac{(z_{\\alpha/2})^2\\hat{p}(1-\\hat{p})}{\\varepsilon^2}$<br>\n",
    "\n",
    "\n",
    "$\\alpha = .1$ therefore, $z_{\\alpha/2}=1.645$<br>\n",
    "\n",
    "\n",
    "$n = \\dfrac{1.645^2\\times 0.8(0.2)}{0.03^2} = 482$"
   ]
  },
  {
   "cell_type": "markdown",
   "metadata": {},
   "source": [
    "# Problem 7.4-11\n",
    "Some dentists were interested in studying the fusion of embryonic rat palates by a standard transplantation technique.  When no treatment is used, the probability of fusion equals approximately 0.89.  The dentists would like to estimate $p$, the probability of fusion, when a vitamin A is lacking."
   ]
  },
  {
   "cell_type": "markdown",
   "metadata": {},
   "source": [
    "## Part a\n",
    "How large a sample $n$ of rat embryos is needed for $y/n \\pm 0.10$ to be a 95% confidence interval for $p$?"
   ]
  },
  {
   "cell_type": "markdown",
   "metadata": {},
   "source": [
    "$\\hat{p} = 0.89$ and $\\alpha = 0.05$<br>\n",
    "\n",
    "\n",
    "Therefore, $z_{\\alpha/2}=1.96$<br>\n",
    "\n",
    "\n",
    "Formula for sample size: $n=\\dfrac{(z_{\\alpha/2})^2\\hat{p}(1-\\hat{p})}{\\varepsilon^2}$<br>\n",
    "\n",
    "\n",
    "$n = \\lceil\\dfrac{1.96^2\\times 0.89(0.11)}{0.10^2}\\rceil=38$"
   ]
  },
  {
   "cell_type": "markdown",
   "metadata": {},
   "source": [
    "## Part b\n",
    "If $y = 44$ out of $n = 60$ palates showed fusion, give a 95% confidence interval for $p$. "
   ]
  },
  {
   "cell_type": "markdown",
   "metadata": {},
   "source": [
    "$\\hat{p} = \\dfrac{y}{n} \\approx 0.733$<br>\n",
    "\n",
    "\n",
    "Confidence boundaries are then,<br>\n",
    "\n",
    "\n",
    "$0.733\\pm1.96\\sqrt{\\dfrac{0.733(1-0.733)}{60}}$<br>\n",
    "\n",
    "\n",
    "Therefore the solution is (0.6214,0.8452)\n"
   ]
  }
 ],
 "metadata": {
  "kernelspec": {
   "display_name": "Python 3",
   "language": "python",
   "name": "python3"
  },
  "language_info": {
   "codemirror_mode": {
    "name": "ipython",
    "version": 3
   },
   "file_extension": ".py",
   "mimetype": "text/x-python",
   "name": "python",
   "nbconvert_exporter": "python",
   "pygments_lexer": "ipython3",
   "version": "3.7.3"
  }
 },
 "nbformat": 4,
 "nbformat_minor": 2
}
